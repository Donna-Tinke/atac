{
 "cells": [
  {
   "cell_type": "code",
   "execution_count": 13,
   "id": "4874b7f0",
   "metadata": {},
   "outputs": [],
   "source": [
    "import numpy as np\n",
    "import pandas as pd\n",
    "import glob\n",
    "import os\n",
    "from scipy.sparse import csr_matrix\n",
    "import re"
   ]
  },
  {
   "cell_type": "code",
   "execution_count": 14,
   "id": "536d0f35",
   "metadata": {},
   "outputs": [],
   "source": [
    "# ff_path = 'TSSClassification/results/04-15_10-25_cf_tabula'\n",
    "ff_path = \"/mnt/c/Users/donna/Downloads/Thesis/data/test/cftest\"\n",
    "ff_feature = 'cov_spread'\n",
    "\n",
    "# %%\n",
    "file_names = [f for f in os.listdir(ff_path) if f.endswith(\".csv\")]\n",
    "\n",
    "# %%\n",
    "cf_samples = []\n",
    "\n",
    "# Load each cfDNA file and append to list\n",
    "for ff_file in file_names:\n",
    "    cf_file_path = os.path.join(ff_path, ff_file)\n",
    "    cf_sample = pd.read_csv(cf_file_path, header=0, dtype='object', usecols=[ff_feature])\n",
    "    cf_sample = cf_sample.astype(float).values.flatten()\n",
    "    cf_samples.append(cf_sample)\n",
    "    ## Elke row is een sample"
   ]
  },
  {
   "cell_type": "code",
   "execution_count": 15,
   "id": "99011c67",
   "metadata": {},
   "outputs": [],
   "source": [
    "sample_ids = [os.path.splitext(f)[0] for f in file_names]                # strip “.csv”\n",
    "df = pd.DataFrame(cf_samples, index=sample_ids)                           # rows = samples     # name columns cov_spread_1,…  \n",
    "df.to_csv(\"/mnt/c/Users/donna/Downloads/Thesis/data/test/cfmatje.csv\", index_label='sample_id')"
   ]
  },
  {
   "cell_type": "code",
   "execution_count": 16,
   "id": "cef68cda",
   "metadata": {},
   "outputs": [
    {
     "name": "stdout",
     "output_type": "stream",
     "text": [
      "                                                    0      1      2      \\\n",
      "control--EE88100.hg38.frag.tsv_corrected.bam_fr...  0.483    0.0  0.105   \n",
      "\n",
      "                                                     3       4       5      \\\n",
      "control--EE88100.hg38.frag.tsv_corrected.bam_fr...  0.7712  0.7054  0.6837   \n",
      "\n",
      "                                                     6       7       8      \\\n",
      "control--EE88100.hg38.frag.tsv_corrected.bam_fr...  0.7357  0.7506  0.7712   \n",
      "\n",
      "                                                     9      ...   18639  \\\n",
      "control--EE88100.hg38.frag.tsv_corrected.bam_fr...  0.6645  ...  0.7952   \n",
      "\n",
      "                                                     18640  18641   18642  \\\n",
      "control--EE88100.hg38.frag.tsv_corrected.bam_fr...  0.6827    0.0  0.0424   \n",
      "\n",
      "                                                     18643  18644   18645  \\\n",
      "control--EE88100.hg38.frag.tsv_corrected.bam_fr...  0.0399    0.0  0.7656   \n",
      "\n",
      "                                                     18646   18647   18648  \n",
      "control--EE88100.hg38.frag.tsv_corrected.bam_fr...  0.7638  0.7443  0.8697  \n",
      "\n",
      "[1 rows x 18649 columns]\n"
     ]
    }
   ],
   "source": [
    "print(df)"
   ]
  },
  {
   "cell_type": "code",
   "execution_count": null,
   "id": "7b035642",
   "metadata": {},
   "outputs": [],
   "source": []
  }
 ],
 "metadata": {
  "kernelspec": {
   "display_name": "thesis_std",
   "language": "python",
   "name": "python3"
  },
  "language_info": {
   "codemirror_mode": {
    "name": "ipython",
    "version": 3
   },
   "file_extension": ".py",
   "mimetype": "text/x-python",
   "name": "python",
   "nbconvert_exporter": "python",
   "pygments_lexer": "ipython3",
   "version": "3.13.2"
  }
 },
 "nbformat": 4,
 "nbformat_minor": 5
}
