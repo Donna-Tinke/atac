{
 "cells": [
  {
   "cell_type": "code",
   "execution_count": 1,
   "metadata": {},
   "outputs": [],
   "source": [
    "import numpy as np\n",
    "import pandas as pd\n",
    "import glob\n",
    "import os"
   ]
  },
  {
   "cell_type": "code",
   "execution_count": 2,
   "metadata": {},
   "outputs": [],
   "source": [
    "id_to_type_path = r\"/mnt/c/Users/donna/Downloads/Thesis/brca_correlaties/id_to_type.xlsx\"\n",
    "TCGA_matrix_path = r\"/mnt/c/Users/donna/Downloads/Thesis/brca_correlaties/TCGA_matrix.xlsx\"\n",
    "peak_info_path = r\"/mnt/c/Users/donna/Downloads/Thesis/brca_correlaties/TCGA_peakcalls.xlsx\""
   ]
  },
  {
   "cell_type": "code",
   "execution_count": 3,
   "metadata": {},
   "outputs": [],
   "source": [
    "def get_first_three_parts(sample_id):\n",
    "    return '-'.join(sample_id.split('-')[:3])"
   ]
  },
  {
   "cell_type": "code",
   "execution_count": 5,
   "metadata": {},
   "outputs": [],
   "source": [
    "tcga_data = pd.read_csv(r\"/mnt/c/Users/donna/Downloads/Thesis/brca_correlaties/TCGA_matrix.csv\")"
   ]
  },
  {
   "cell_type": "code",
   "execution_count": 6,
   "metadata": {},
   "outputs": [],
   "source": [
    "sample_ids = tcga_data.columns[1:].values\n",
    "full_peak_names = tcga_data[\"sample\"].values\n",
    "peak_values = tcga_data.iloc[:,1:].values"
   ]
  },
  {
   "cell_type": "code",
   "execution_count": 7,
   "metadata": {},
   "outputs": [],
   "source": [
    "peak_names = pd.read_excel(peak_info_path, sheet_name=\"Pan-Cancer_PeakCalls\", skiprows=22, usecols = [\"Chromosome\", \"Peak_Name\"]) \n",
    "filtered_peak_names = peak_names[~peak_names[\"Chromosome\"].isin([\"chrX\", \"chrY\"])][\"Peak_Name\"]\n",
    "filtered_set = set(filtered_peak_names)\n",
    "peak_mask = np.array([peak in filtered_set for peak in full_peak_names])"
   ]
  },
  {
   "cell_type": "code",
   "execution_count": 8,
   "metadata": {},
   "outputs": [],
   "source": [
    "# Save peak names, same for all samples/cancer types\n",
    "filtered_peaks = full_peak_names[peak_mask]\n",
    "np.savetxt('/mnt/c/Users/donna/Downloads/Thesis/brca_correlaties/TCGA_data/filtered_peak_names.csv', filtered_peaks, delimiter=\",\", fmt=\"%s\")"
   ]
  },
  {
   "cell_type": "code",
   "execution_count": 9,
   "metadata": {},
   "outputs": [],
   "source": [
    "# MAKING MATRIX FOR ONLY THE 10000 PEAKS WITH HIGHEST VARIANCE (first atac, then ff (griffin mean))"
   ]
  },
  {
   "cell_type": "code",
   "execution_count": 25,
   "metadata": {},
   "outputs": [],
   "source": [
    "# Selecting 10000 high var atac peaks\n",
    "high_var_peaks = pd.read_csv(r'/mnt/c/Users/donna/Downloads/Thesis/brca_correlaties/TCGA_data/high_var_peaks.csv', header=None).values"
   ]
  },
  {
   "cell_type": "code",
   "execution_count": 28,
   "metadata": {},
   "outputs": [
    {
     "name": "stdout",
     "output_type": "stream",
     "text": [
      "10000\n"
     ]
    }
   ],
   "source": [
    "print(len(high_var_peaks))"
   ]
  },
  {
   "cell_type": "code",
   "execution_count": 35,
   "metadata": {},
   "outputs": [],
   "source": [
    "high_var_mask = np.isin(full_peak_names, high_var_peaks)"
   ]
  },
  {
   "cell_type": "code",
   "execution_count": 48,
   "metadata": {},
   "outputs": [],
   "source": [
    "# Selecting 1000 high var ff (covx) peaks\n",
    "ff_high_var_peaks = pd.read_csv(r'/mnt/c/Users/donna/Downloads/Thesis/brca_correlaties/TCGA_data/high_var_covx_peaks.csv', header=None).values"
   ]
  },
  {
   "cell_type": "code",
   "execution_count": 49,
   "metadata": {},
   "outputs": [],
   "source": [
    "ff_high_var_mask = np.isin(full_peak_names, ff_high_var_peaks)"
   ]
  },
  {
   "cell_type": "code",
   "execution_count": 9,
   "metadata": {},
   "outputs": [],
   "source": [
    "## FETCHING CANCER SPECIFIC SAMPLES\n",
    "# -> Change cancer type!!!"
   ]
  },
  {
   "cell_type": "code",
   "execution_count": 54,
   "metadata": {},
   "outputs": [],
   "source": [
    "id_to_type = pd.read_excel(id_to_type_path, header=0, sheet_name='Sheet1', dtype='object')\n",
    "selected_ids = id_to_type[id_to_type.iloc[:, 1].isin(['COAD'])]['Sample_id']"
   ]
  },
  {
   "cell_type": "code",
   "execution_count": 55,
   "metadata": {},
   "outputs": [],
   "source": [
    "def get_first_three_parts(sample_id):\n",
    "    sample_id = sample_id.astype(str)\n",
    "    split_parts = np.char.split(sample_id, '-')\n",
    "    return np.array(['-'.join(parts[:3]) for parts in split_parts])"
   ]
  },
  {
   "cell_type": "code",
   "execution_count": 56,
   "metadata": {},
   "outputs": [],
   "source": [
    "first_three_id = get_first_three_parts(sample_ids)\n",
    "presence_array = np.isin(first_three_id, selected_ids)"
   ]
  },
  {
   "cell_type": "code",
   "execution_count": 39,
   "metadata": {},
   "outputs": [],
   "source": [
    "# -> Change output name to correct cancer type"
   ]
  },
  {
   "cell_type": "code",
   "execution_count": 46,
   "metadata": {},
   "outputs": [],
   "source": [
    "selected_peak_values = peak_values[np.ix_(peak_mask, presence_array)]\n",
    "np.savetxt('/mnt/c/Users/donna/Downloads/Thesis/brca_correlaties/TCGA_data/brca_atac_data.csv', selected_peak_values, delimiter=\",\", fmt=\"%.8f\") "
   ]
  },
  {
   "cell_type": "code",
   "execution_count": 34,
   "metadata": {},
   "outputs": [],
   "source": [
    "# -> Change output name to correct cancer type"
   ]
  },
  {
   "cell_type": "code",
   "execution_count": 17,
   "metadata": {},
   "outputs": [],
   "source": [
    "selected_sample_ids = sample_ids[presence_array]\n",
    "np.savetxt('/mnt/c/Users/donna/Downloads/Thesis/brca_correlaties/TCGA_data/brca_sample_ids.csv', selected_sample_ids, delimiter=\",\", fmt=\"%s\") "
   ]
  },
  {
   "cell_type": "code",
   "execution_count": 47,
   "metadata": {},
   "outputs": [],
   "source": [
    "# Only 10000 high var peaks\n",
    "# -> Change output name to correct cancer type\n",
    "high_var_peak_values = peak_values[np.ix_(high_var_mask, presence_array)]\n",
    "np.savetxt('/mnt/c/Users/donna/Downloads/Thesis/brca_correlaties/TCGA_data/high_var_brca.csv', high_var_peak_values, delimiter=\",\", fmt=\"%.8f\") "
   ]
  },
  {
   "cell_type": "code",
   "execution_count": 57,
   "metadata": {},
   "outputs": [],
   "source": [
    "# Only 10000 high covxvar peaks\n",
    "# -> Change output name to correct cancer type\n",
    "ff_high_var_peak_values = peak_values[np.ix_(ff_high_var_mask, presence_array)]\n",
    "np.savetxt('/mnt/c/Users/donna/Downloads/Thesis/brca_correlaties/TCGA_data/high_covxvar_coad.csv', ff_high_var_peak_values, delimiter=\",\", fmt=\"%.8f\") "
   ]
  },
  {
   "cell_type": "code",
   "execution_count": null,
   "metadata": {},
   "outputs": [],
   "source": []
  }
 ],
 "metadata": {
  "kernelspec": {
   "display_name": "thesis_std",
   "language": "python",
   "name": "python3"
  },
  "language_info": {
   "codemirror_mode": {
    "name": "ipython",
    "version": 3
   },
   "file_extension": ".py",
   "mimetype": "text/x-python",
   "name": "python",
   "nbconvert_exporter": "python",
   "pygments_lexer": "ipython3",
   "version": "3.13.2"
  }
 },
 "nbformat": 4,
 "nbformat_minor": 2
}
