{
 "cells": [
  {
   "cell_type": "code",
   "execution_count": 4,
   "metadata": {},
   "outputs": [],
   "source": [
    "import numpy as np\n",
    "import pandas as pd\n",
    "import glob\n",
    "import os\n",
    "from scipy.stats import pearsonr"
   ]
  },
  {
   "cell_type": "code",
   "execution_count": 6,
   "metadata": {},
   "outputs": [],
   "source": [
    "# Load sample data and create mapping\n",
    "id_to_type_path = r\"/mnt/c/Users/donna/Downloads/Thesis/TSSClassification/brca_correlaties/id_to_type.xlsx\"\n",
    "sample_data = pd.read_excel(id_to_type_path, header=0, sheet_name='Sheet1', dtype='object')\n",
    "sample_data.columns = sample_data.columns.str.strip()  # Strip any extra spaces from column names"
   ]
  },
  {
   "cell_type": "code",
   "execution_count": 7,
   "metadata": {},
   "outputs": [
    {
     "name": "stdout",
     "output_type": "stream",
     "text": [
      "['TCGA-3C-AALJ', 'TCGA-4H-AAAK', 'TCGA-A2-A0CX', 'TCGA-A2-A0ES', 'TCGA-A2-A0ET', 'TCGA-A2-A0EV', 'TCGA-A2-A0EW', 'TCGA-A2-A0EX', 'TCGA-A2-A0EY', 'TCGA-A2-A0SV', 'TCGA-A2-A0SW', 'TCGA-A2-A0SX', 'TCGA-A2-A0T4', 'TCGA-A2-A0T5', 'TCGA-A2-A0T6', 'TCGA-A2-A0T7', 'TCGA-A2-A0YC', 'TCGA-A2-A0YD', 'TCGA-A2-A0YF', 'TCGA-A2-A0YG', 'TCGA-A2-A0YH', 'TCGA-A2-A0YJ', 'TCGA-A2-A0YK', 'TCGA-A2-A0YL', 'TCGA-A2-A0YT', 'TCGA-A2-A4RX', 'TCGA-A7-A0CH', 'TCGA-A7-A0D9', 'TCGA-A7-A13E', 'TCGA-A7-A13F', 'TCGA-A8-A06N', 'TCGA-A8-A08J', 'TCGA-A8-A094', 'TCGA-AO-A03L', 'TCGA-AO-A03N', 'TCGA-AO-A0J5', 'TCGA-AO-A0J8', 'TCGA-AO-A0JB', 'TCGA-AO-A0JG', 'TCGA-AO-A0JM', 'TCGA-AO-A124', 'TCGA-AO-A12D', 'TCGA-AO-A12F', 'TCGA-AQ-A04L', 'TCGA-AR-A0TP', 'TCGA-AR-A0TV', 'TCGA-AR-A0U0', 'TCGA-AR-A0U4', 'TCGA-BH-A0B1', 'TCGA-BH-A0B5', 'TCGA-BH-A0BA', 'TCGA-BH-A0BZ', 'TCGA-BH-A0C1', 'TCGA-BH-A0DL', 'TCGA-BH-A0DP', 'TCGA-BH-A0DV', 'TCGA-BH-A0E0', 'TCGA-BH-A0EE', 'TCGA-BH-A0HP', 'TCGA-BH-A1EV', 'TCGA-C8-A12K', 'TCGA-C8-A12M', 'TCGA-C8-A12O', 'TCGA-C8-A12Q', 'TCGA-C8-A12T', 'TCGA-C8-A12U', 'TCGA-C8-A12V', 'TCGA-C8-A12Y', 'TCGA-C8-A130', 'TCGA-C8-A133', 'TCGA-C8-A137', 'TCGA-C8-A8HR', 'TCGA-D8-A13Z', 'TCGA-S3-AA0Z']\n"
     ]
    }
   ],
   "source": [
    "#Filter for sample data to only cntains ids of BRCA and COAD\n",
    "filtered_data = sample_data[sample_data.iloc[:, 1].isin(['BRCA', 'COAD'])]\n",
    "\n",
    "# Create dictionary with sample id as keys and cancer types as values\n",
    "sample_to_type = dict(zip(filtered_data.iloc[:, 0].str.strip(), filtered_data.iloc[:, 1].str.strip()))\n",
    "\n",
    "# Making different containers for the sample ids for each cancer type\n",
    "brca_samples = [sample for sample, cancer_type in sample_to_type.items() if cancer_type == 'BRCA']\n",
    "coad_samples = [sample for sample, cancer_type in sample_to_type.items() if cancer_type == 'COAD']\n",
    "\n",
    "print(brca_samples)"
   ]
  },
  {
   "cell_type": "code",
   "execution_count": null,
   "metadata": {},
   "outputs": [],
   "source": [
    "# Define a function to extract the first three parts of a sample ID\n",
    "def get_first_three_parts(sample_id):\n",
    "    return '-'.join(sample_id.split('-')[:3])"
   ]
  },
  {
   "cell_type": "code",
   "execution_count": null,
   "metadata": {},
   "outputs": [],
   "source": [
    "# Path to the large data matrix\n",
    "file_path = r\"/mnt/c/Users/donna/Downloads/Thesis/brca_correlaties/TCGA_ATAC_peak_values\""
   ]
  },
  {
   "cell_type": "code",
   "execution_count": null,
   "metadata": {},
   "outputs": [],
   "source": [
    "# Load the first line of the large matrix to get the full list of sample IDs (header only)\n",
    "with open(file_path, 'r') as f:\n",
    "    header_line = f.readline().strip()\n",
    "\n",
    "# Extract sample IDs from the header (skip the first column which is 'sample')\n",
    "all_sample_ids = header_line.split('\\t')[1:]  # The first column is 'sample', so we skip it\n",
    "\n",
    "# Filter the sample IDs to include only those that match the first three parts of BRCA sample IDs\n",
    "brca_columns = [sample_id for sample_id in all_sample_ids if get_first_three_parts(sample_id) in brca_samples]\n",
    "coad_columns = [sample_id for sample_id in all_sample_ids if get_first_three_parts(sample_id) in coad_samples]\n",
    "\n",
    "# Load only the necessary columns (BRCA samples) and limit to the first 1000 rows\n",
    "brca_1000_peak_values = pd.read_csv(file_path, sep='\\t', usecols=brca_columns,nrows=999, dtype='object')\n",
    "print(brca_1000_peak_values[:10])\n",
    "coad_1000_peak_values = pd.read_csv(file_path, sep='\\t', usecols=coad_columns,nrows=999, dtype='object')\n",
    "\n",
    "# Load full peak map from 1 sample of each type\n",
    "brca_full_single = pd.read_csv(file_path, sep='\\t', usecols = [brca_columns[0]], dtype='object')\n",
    "coad_full_single = pd.read_csv(file_path, sep='\\t', usecols = [coad_columns[0]], dtype='object')\n",
    "\n",
    "# Save the filtered matrix to a CSV file\n",
    "brca_1000_peak_values.to_csv(r\"/mnt/c/Users/donna/Downloads/Thesis/brca_correlaties/brca_1000_peak_values.csv\", index=False)\n",
    "coad_1000_peak_values.to_csv(r\"/mnt/c/Users/donna/Downloads/Thesis/brca_correlaties/coad_1000_peak_values.csv\", index=False)\n",
    "brca_full_single.to_csv(r\"/mnt/c/Users/donna/Downloads/Thesis/brca_correlaties/brca_full_single.csv\", index=False)\n",
    "coad_full_single.to_csv(r\"/mnt/c/Users/donna/Downloads/Thesis/brca_correlaties/coad_full_single.csv\", index=False)"
   ]
  }
 ],
 "metadata": {
  "kernelspec": {
   "display_name": "thesis_std",
   "language": "python",
   "name": "python3"
  },
  "language_info": {
   "codemirror_mode": {
    "name": "ipython",
    "version": 3
   },
   "file_extension": ".py",
   "mimetype": "text/x-python",
   "name": "python",
   "nbconvert_exporter": "python",
   "pygments_lexer": "ipython3",
   "version": "3.13.2"
  }
 },
 "nbformat": 4,
 "nbformat_minor": 2
}
