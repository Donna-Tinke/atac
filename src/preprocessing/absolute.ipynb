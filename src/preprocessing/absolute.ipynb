{
 "cells": [
  {
   "cell_type": "code",
   "execution_count": 1,
   "id": "306ff196",
   "metadata": {},
   "outputs": [],
   "source": [
    "import os\n",
    "import pandas as pd\n",
    "import numpy as np"
   ]
  },
  {
   "cell_type": "code",
   "execution_count": 7,
   "id": "89b48d47",
   "metadata": {},
   "outputs": [],
   "source": [
    "root_source_dir =  \"/mnt/c/Users/donna/Downloads/Thesis/correlation_results/scrna/control/filtered_cells\"\n",
    "root_destination_dir = \"/mnt/c/Users/donna/Downloads/Thesis/correlation_results/scrna/control/abs_cors\""
   ]
  },
  {
   "cell_type": "code",
   "execution_count": 8,
   "id": "44ea47c2",
   "metadata": {},
   "outputs": [],
   "source": [
    "for subfolder in os.listdir(root_source_dir):\n",
    "    subfolder_path = os.path.join(root_source_dir, subfolder)\n",
    "    if os.path.isdir(subfolder_path):\n",
    "       \n",
    "        dest_subfolder_path = os.path.join(root_destination_dir, subfolder)\n",
    "        os.makedirs(dest_subfolder_path, exist_ok=True)\n",
    "        \n",
    "       \n",
    "        for filename in os.listdir(subfolder_path):\n",
    "            if filename.endswith('.csv'):\n",
    "               \n",
    "                file_path = os.path.join(subfolder_path, filename)\n",
    "                corr_matrix = pd.read_csv(file_path, index_col=0)\n",
    "                \n",
    "               \n",
    "                abs_corr_matrix = corr_matrix.abs()\n",
    "                \n",
    "                destination_path = os.path.join(dest_subfolder_path, filename)\n",
    "                abs_corr_matrix.to_csv(destination_path)"
   ]
  },
  {
   "cell_type": "code",
   "execution_count": null,
   "id": "0e12ca7e",
   "metadata": {},
   "outputs": [],
   "source": []
  }
 ],
 "metadata": {
  "kernelspec": {
   "display_name": "thesis_std",
   "language": "python",
   "name": "python3"
  },
  "language_info": {
   "codemirror_mode": {
    "name": "ipython",
    "version": 3
   },
   "file_extension": ".py",
   "mimetype": "text/x-python",
   "name": "python",
   "nbconvert_exporter": "python",
   "pygments_lexer": "ipython3",
   "version": "3.13.2"
  }
 },
 "nbformat": 4,
 "nbformat_minor": 5
}
