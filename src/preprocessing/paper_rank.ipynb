{
 "cells": [
  {
   "cell_type": "code",
   "execution_count": null,
   "id": "22ca4f27",
   "metadata": {},
   "outputs": [],
   "source": [
    "import numpy as np\n",
    "import pandas as pd\n",
    "import glob\n",
    "import os\n",
    "from scipy.stats import pearsonr\n",
    "import anndata as ad\n",
    "from scipy.sparse import csr_matrix\n",
    "from scipy.stats import zscore\n",
    "import time\n",
    "from scipy.sparse import issparse"
   ]
  },
  {
   "cell_type": "code",
   "execution_count": 8,
   "id": "d5f6196a",
   "metadata": {},
   "outputs": [],
   "source": [
    "scrna_path = \"/mnt/c/Users/donna/Downloads/Thesis/data/scrnatest\""
   ]
  },
  {
   "cell_type": "code",
   "execution_count": 9,
   "id": "829642ac",
   "metadata": {},
   "outputs": [],
   "source": [
    "reference_df = pd.read_excel(\"/mnt/c/Users/donna/Downloads/Thesis/rankjes/paper_data.xlsx\", usecols=[\"cell_type\", \"tissue\", \"rank\", \"GC_code\", \"depth\"])\n",
    "reference_df.dropna(subset=[\"cell_type\", \"tissue\"], inplace=True)\n",
    "reference_df[\"normalized_cell_type\"] = [name.rsplit(\"_\", 1)[0] for name in reference_df[\"cell_type\"]]\n",
    "reference_df[\"normalized_tissue\"] = reference_df[\"tissue\"].str.lower().str.replace(r'[-\\s]+', '_', regex=True)"
   ]
  },
  {
   "cell_type": "code",
   "execution_count": 10,
   "id": "d506373f",
   "metadata": {},
   "outputs": [],
   "source": [
    "h5ad_files = [f for f in os.listdir(scrna_path) if f.endswith(\".h5ad\")]"
   ]
  },
  {
   "cell_type": "code",
   "execution_count": 11,
   "id": "d610cb6e",
   "metadata": {},
   "outputs": [],
   "source": [
    "def strip_suffix(cell_type):\n",
    "        for suffix in suffixes_to_remove:\n",
    "            if cell_type.endswith(suffix):\n",
    "                return cell_type[: -len(suffix)]\n",
    "        return cell_type"
   ]
  },
  {
   "cell_type": "code",
   "execution_count": 6,
   "id": "e614f91a",
   "metadata": {},
   "outputs": [],
   "source": [
    "filtered_rows = []\n",
    "\n",
    "\n",
    "for file_name in h5ad_files:\n",
    "\n",
    "    full_path = os.path.join(scrna_path, file_name)\n",
    "    adata = ad.read_h5ad(full_path)\n",
    "\n",
    "    adata.obs['cell_type'] = [name.replace(\", \", \"_\").replace(\" \", \"_\").replace(\"-\", \"_\") for name in adata.obs['cell_type']]\n",
    "\n",
    "    tissue_name = os.path.basename(file_name).replace(\".h5ad\", \"\")\n",
    "    \n",
    "    suffixes_to_remove = [\"_Bone\", \"_Small\", \"_Large\", \"_Salivary\", \"_Lymph\"]\n",
    "    filtered_reference = reference_df[reference_df[\"normalized_tissue\"] == tissue_name].copy()\n",
    "    filtered_reference[\"normalized_cell_type\"] = filtered_reference[\"normalized_cell_type\"].apply(strip_suffix)\n",
    "\n",
    "    valid_cell_types = set(filtered_reference[\"normalized_cell_type\"].unique())\n",
    "    current_cell_types = set(adata.obs['cell_type'].unique())\n",
    "    matching_types = current_cell_types & valid_cell_types\n",
    "\n",
    "    filtered_reference = filtered_reference[filtered_reference[\"normalized_cell_type\"].isin(matching_types)]\n",
    "\n",
    "    filtered_rows.append(filtered_reference)\n",
    "\n",
    "\n",
    "matched_reference_df = pd.concat(filtered_rows, ignore_index=True)\n",
    "\n",
    "# Filter for only 10x coverage \n",
    "filtered_depth_df = matched_reference_df[matched_reference_df[\"depth\"] == \"<0.3X\"].copy()\n",
    "\n"
   ]
  },
  {
   "cell_type": "code",
   "execution_count": 12,
   "id": "31279179",
   "metadata": {},
   "outputs": [],
   "source": [
    "original_columns = filtered_depth_df.columns.tolist()\n",
    "sorted_df = filtered_depth_df.sort_values(by=[\"GC_code\", \"rank\"])"
   ]
  },
  {
   "cell_type": "code",
   "execution_count": 13,
   "id": "80b6f99a",
   "metadata": {},
   "outputs": [],
   "source": [
    "def assign_compressed_ranks(group):\n",
    "    group = group.copy()\n",
    "    group[\"rank\"] = range(1, len(group) + 1)  # assign new ranks 1..n\n",
    "    return group"
   ]
  },
  {
   "cell_type": "code",
   "execution_count": null,
   "id": "adf16d00",
   "metadata": {},
   "outputs": [
    {
     "name": "stderr",
     "output_type": "stream",
     "text": [
      "/tmp/ipykernel_18390/1499007839.py:3: DeprecationWarning: DataFrameGroupBy.apply operated on the grouping columns. This behavior is deprecated, and in a future version of pandas the grouping columns will be excluded from the operation. Either pass `include_groups=False` to exclude the groupings or explicitly select the grouping columns after groupby to silence this warning.\n",
      "  .apply(assign_compressed_ranks)\n"
     ]
    },
    {
     "ename": "",
     "evalue": "",
     "output_type": "error",
     "traceback": [
      "\u001b[1;31mThe Kernel crashed while executing code in the current cell or a previous cell. \n",
      "\u001b[1;31mPlease review the code in the cell(s) to identify a possible cause of the failure. \n",
      "\u001b[1;31mClick <a href='https://aka.ms/vscodeJupyterKernelCrash'>here</a> for more info. \n",
      "\u001b[1;31mView Jupyter <a href='command:jupyter.viewOutput'>log</a> for further details."
     ]
    }
   ],
   "source": [
    "recomputed_df = (\n",
    "    sorted_df.groupby(\"GC_code\", group_keys=False)\n",
    "    .apply(assign_compressed_ranks)\n",
    ")\n",
    "recomputed_df = recomputed_df[original_columns]\n"
   ]
  },
  {
   "cell_type": "code",
   "execution_count": null,
   "id": "180a3a43",
   "metadata": {},
   "outputs": [],
   "source": [
    "recomputed_df.to_csv(\"rankjes/matched_reference_recomputed_ranks.csv\", index=False)"
   ]
  },
  {
   "cell_type": "code",
   "execution_count": 15,
   "id": "89b99e1d",
   "metadata": {},
   "outputs": [],
   "source": [
    "df = pd.read_csv(\"/mnt/c/Users/donna/Downloads/Thesis/rankjes/paper_ranks/03x_matched_reference_ranks.csv\")"
   ]
  },
  {
   "cell_type": "code",
   "execution_count": 16,
   "id": "56870e4d",
   "metadata": {},
   "outputs": [],
   "source": [
    "two_word_tissues = {\n",
    "    'Small_Intestine',\n",
    "    'Large_Intestine',\n",
    "    'Salivary_Gland',\n",
    "    'Bone_Marrow',\n",
    "    'Lymph_Node'\n",
    "}"
   ]
  },
  {
   "cell_type": "code",
   "execution_count": 17,
   "id": "1ac1ae99",
   "metadata": {},
   "outputs": [],
   "source": [
    "processed_rows = []\n",
    "\n",
    "for _, row in df.iterrows():\n",
    "    cell_type = row['cell_type']\n",
    "    rank = row['rank'] if 'rank' in row else None  # Skip or adjust if rank is not present\n",
    "\n",
    "    parts = cell_type.split('_')\n",
    "\n",
    "    if len(parts) >= 2:\n",
    "        last_two = '_'.join(parts[-2:])\n",
    "        last_one = parts[-1]\n",
    "\n",
    "        if last_two in two_word_tissues:\n",
    "            tissue = last_two\n",
    "            original_cell_type = '_'.join(parts[:-2])\n",
    "        else:\n",
    "            tissue = last_one\n",
    "            original_cell_type = '_'.join(parts[:-1])\n",
    "    else:\n",
    "        tissue = 'unknown'\n",
    "        original_cell_type = cell_type\n",
    "\n",
    "    # Store modified row\n",
    "    processed_row = row.to_dict()\n",
    "    processed_row['tissue'] = tissue\n",
    "    processed_row['original_cell_type'] = original_cell_type\n",
    "    processed_rows.append(processed_row)\n",
    "\n",
    "# Create a new DataFrame\n",
    "processed_df = pd.DataFrame(processed_rows)\n",
    "\n",
    "# Save to new CSV\n",
    "output_path = \"/mnt/c/Users/donna/Downloads/Thesis/rankjes/paper_ranks/03x_matched_reference_ranks.csv\"  # replace with your desired output path\n",
    "processed_df.to_csv(output_path, index=False)"
   ]
  },
  {
   "cell_type": "code",
   "execution_count": null,
   "id": "ad254722",
   "metadata": {},
   "outputs": [],
   "source": []
  }
 ],
 "metadata": {
  "kernelspec": {
   "display_name": "thesis_std",
   "language": "python",
   "name": "python3"
  },
  "language_info": {
   "codemirror_mode": {
    "name": "ipython",
    "version": 3
   },
   "file_extension": ".py",
   "mimetype": "text/x-python",
   "name": "python",
   "nbconvert_exporter": "python",
   "pygments_lexer": "ipython3",
   "version": "3.13.2"
  }
 },
 "nbformat": 4,
 "nbformat_minor": 5
}
