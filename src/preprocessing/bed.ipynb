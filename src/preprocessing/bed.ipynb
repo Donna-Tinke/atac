{
 "cells": [
  {
   "cell_type": "code",
   "execution_count": 4,
   "metadata": {},
   "outputs": [],
   "source": [
    "import pandas as pd\n",
    "import numpy as np\n",
    "import numpy as np\n",
    "import pandas as pd\n",
    "import glob\n",
    "import os\n",
    "from scipy.stats import pearsonr\n",
    "import anndata as ad\n",
    "from scipy.sparse import csr_matrix"
   ]
  },
  {
   "cell_type": "code",
   "execution_count": 5,
   "metadata": {},
   "outputs": [],
   "source": [
    "##Altering the bed to ony contains genes that match the tabula Spaiens dataset"
   ]
  },
  {
   "cell_type": "code",
   "execution_count": 10,
   "metadata": {},
   "outputs": [],
   "source": [
    "bed_df = pd.read_csv(\"/mnt/c/Users/donna/Downloads/Thesis/TSSClassification/beds/dts_beds/tabulasapiens.bed\", sep='\\t', header=None)\n",
    "atac = pd.read_csv(\"/mnt/c/Users/donna/Downloads/Thesis/tacje/tissue_mean_atac_signals.csv\")"
   ]
  },
  {
   "cell_type": "code",
   "execution_count": 14,
   "metadata": {},
   "outputs": [
    {
     "name": "stdout",
     "output_type": "stream",
     "text": [
      "          0          1          2       3  4      5\n",
      "0      chr1      65419      65420   OR4F5  1  32.06\n",
      "1      chr1     451678     451679  OR4F29 -1  46.01\n",
      "2      chr1     686654     686655  OR4F16 -1  46.01\n",
      "3      chr1     923923     923924  SAMD11  1  66.59\n",
      "4      chr1     959256     959257   NOC2L -1  59.54\n",
      "...     ...        ...        ...     ... ..    ...\n",
      "19371  chrX  155612586  155612587   SPRY3  1  37.19\n",
      "19372  chrX  155612952  155612953   TMLHE -1  37.16\n",
      "19373  chrX  155881345  155881346   VAMP7  1  38.75\n",
      "19374  chrX  155997696  155997697    IL9R  1  55.85\n",
      "19375  chrX  156020961  156020962  WASH6P  1  59.75\n",
      "\n",
      "[19376 rows x 6 columns]\n"
     ]
    }
   ],
   "source": [
    "print(bed_df)"
   ]
  },
  {
   "cell_type": "code",
   "execution_count": 11,
   "metadata": {},
   "outputs": [],
   "source": [
    "atac_genes = atac.columns.tolist()"
   ]
  },
  {
   "cell_type": "code",
   "execution_count": null,
   "metadata": {},
   "outputs": [],
   "source": [
    "filtered_genes = bed_df[bed_df.iloc[:, 3].isin(atac_genes)]"
   ]
  },
  {
   "cell_type": "code",
   "execution_count": 15,
   "metadata": {},
   "outputs": [],
   "source": [
    "filtered_genes.to_csv(\"/mnt/c/Users/donna/Downloads/Thesis/TSSClassification/beds/dts_beds/atac_match.bed\", sep=\"\\t\", header=False, index=False)"
   ]
  },
  {
   "cell_type": "code",
   "execution_count": null,
   "metadata": {},
   "outputs": [],
   "source": [
    "bed_genes = bed_df.iloc[:, 3]\n",
    "ann_genes = adata.var['feature_name']  \n",
    "matching_genes = bed_genes.isin(ann_genes)\n",
    "filtered_bed = bed_df[matching_genes]"
   ]
  },
  {
   "cell_type": "code",
   "execution_count": 43,
   "metadata": {},
   "outputs": [],
   "source": [
    "###Creating a bed file which contains the peak locations of the TCGA ATAC-seq matrix\n",
    "##I sorted the peaks themselved using the peak_id column in the pan-cancer sheet of the data_s2"
   ]
  },
  {
   "cell_type": "code",
   "execution_count": 4,
   "metadata": {},
   "outputs": [],
   "source": [
    "##Loading peak info for all peaks\n",
    "peak_info = \"/mnt/c/Users/donna/Downloads/Thesis/brca_correlaties/TCGA_peak_locations.xlsx\""
   ]
  },
  {
   "cell_type": "code",
   "execution_count": 31,
   "metadata": {},
   "outputs": [],
   "source": [
    "##loading the sheet containing the peak locations for the full bed file (all the peaks)\n",
    "all_peaks = pd.read_excel(peak_info, header=0, sheet_name='full_bed', dtype='object')\n",
    "all_peaks.columns = all_peaks.columns.str.strip()  # Strip any extra spaces from column names"
   ]
  },
  {
   "cell_type": "code",
   "execution_count": 32,
   "metadata": {},
   "outputs": [],
   "source": [
    "##Making a bed with the 10000 peaks that have highest atac variance \n",
    "high_var_peak_names = pd.read_csv('/mnt/c/Users/donna/Downloads/Thesis/brca_correlaties/TCGA_data/high_var_peaks.csv', header=None)"
   ]
  },
  {
   "cell_type": "code",
   "execution_count": 33,
   "metadata": {},
   "outputs": [],
   "source": [
    "var_peak_mask = all_peaks[\"Peak_Name\"].isin(high_var_peak_names[0])"
   ]
  },
  {
   "cell_type": "code",
   "execution_count": 34,
   "metadata": {},
   "outputs": [],
   "source": [
    "high_var_peaks = all_peaks[var_peak_mask]"
   ]
  },
  {
   "cell_type": "code",
   "execution_count": 24,
   "metadata": {},
   "outputs": [],
   "source": [
    "##Making a bed with the 10000 peaks that have the highest ff (griffin mean) variance\n",
    "ff_high_var_peak_names = pd.read_csv('/mnt/c/Users/donna/Downloads/Thesis/brca_correlaties/TCGA_data/high_var_covx_peaks.csv', header=None)"
   ]
  },
  {
   "cell_type": "code",
   "execution_count": 25,
   "metadata": {},
   "outputs": [],
   "source": [
    "ff_var_peak_mask = all_peaks[\"Peak_Name\"].isin(ff_high_var_peak_names[0])\n",
    "ff_high_var_peaks = all_peaks[ff_var_peak_mask]"
   ]
  },
  {
   "cell_type": "code",
   "execution_count": 35,
   "metadata": {},
   "outputs": [],
   "source": [
    "##Drop the colums with peak names cuz they are no longer nessecary \n",
    "all_peaks = all_peaks.drop(columns=['Peak_Name'])\n",
    "high_var_peaks = high_var_peaks.drop(columns=['Peak_Name'])\n",
    "ff_high_var_peaks = ff_high_var_peaks.drop(columns=['Peak_Name'])"
   ]
  },
  {
   "cell_type": "code",
   "execution_count": 36,
   "metadata": {},
   "outputs": [],
   "source": [
    "##Filter out the X and Y chrom in the full peak set\n",
    "all_peaks = all_peaks[~all_peaks['Chromosome'].isin(['chrX', 'chrY'])]"
   ]
  },
  {
   "cell_type": "code",
   "execution_count": null,
   "metadata": {},
   "outputs": [],
   "source": [
    "##Adding column names\n",
    "all_peaks.columns = ['chrom', 'chromStart', 'chromEnd']\n",
    "high_var_peaks.columns = ['chrom', 'chromStart', 'chromEnd']\n",
    "ff_high_var_peaks.columns = ['chrom', 'chromStart', 'chromEnd']\n",
    "\n",
    "# Save to a BED file, which will be used by Brams code for calculating fragment short/long ratio (fslr)\n",
    "bed_file_path = r\"/mnt/c/Users/donna/Downloads/Thesis/TSSclassification/beds/dts_beds/all_peaks.bed\"\n",
    "all_peaks.to_csv(bed_file_path, sep='\\t', header=False, index=False)\n",
    "\n",
    "bed_file_path = r\"/mnt/c/Users/donna/Downloads/Thesis/TSSclassification/beds/dts_beds/high_var_peaks.bed\"\n",
    "high_var_peaks.to_csv(bed_file_path, sep='\\t', header=False, index=False)\n",
    "\n",
    "bed_file_path = r\"/mnt/c/Users/donna/Downloads/Thesis/TSSclassification/beds/dts_beds/covx_high_var_peaks.bed\"\n",
    "ff_high_var_peaks.to_csv(bed_file_path, sep='\\t', header=False, index=False)\n",
    "\n",
    "bed_file_path = r\"/mnt/c/Users/donna/Downloads/Thesis/TSSclassification/beds/dts_beds/tabula_match.bed\"\n",
    "filtered_bed.to_csv(bed_file_path, sep='\\t', header=False, index=False)"
   ]
  }
 ],
 "metadata": {
  "kernelspec": {
   "display_name": "thesis_std",
   "language": "python",
   "name": "python3"
  },
  "language_info": {
   "codemirror_mode": {
    "name": "ipython",
    "version": 3
   },
   "file_extension": ".py",
   "mimetype": "text/x-python",
   "name": "python",
   "nbconvert_exporter": "python",
   "pygments_lexer": "ipython3",
   "version": "3.13.2"
  }
 },
 "nbformat": 4,
 "nbformat_minor": 2
}
