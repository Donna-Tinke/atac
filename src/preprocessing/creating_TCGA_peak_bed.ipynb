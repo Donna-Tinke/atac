{
 "cells": [
  {
   "cell_type": "code",
   "execution_count": 22,
   "metadata": {},
   "outputs": [],
   "source": [
    "import pandas as pd\n",
    "import numpy as np"
   ]
  },
  {
   "cell_type": "code",
   "execution_count": 23,
   "metadata": {},
   "outputs": [],
   "source": [
    "###Creating a bed file which contains the peak locations of the TCGA ATAC-seq matrix\n",
    "##I sorted the peaks themselved using the peak_id column in the pan-cancer sheet of the data_s2"
   ]
  },
  {
   "cell_type": "code",
   "execution_count": 24,
   "metadata": {},
   "outputs": [],
   "source": [
    "##loading the sheet containing the peak locations for the first 1000 peaks (for small experiments)\n",
    "peak_info = \"/mnt/c/Users/donna/Downloads/Thesis/brca_correlaties/TCGA_peak_locations.xlsx\"\n",
    "\n",
    "peaks_1000 = pd.read_excel(peak_info, header=0, sheet_name='1000_peaks', dtype='object')\n",
    "peaks_1000.columns = peaks_1000.columns.str.strip()  # Strip any extra spaces from column names"
   ]
  },
  {
   "cell_type": "code",
   "execution_count": 25,
   "metadata": {},
   "outputs": [],
   "source": [
    "##loading the sheet containing the peak locations for the full bed file (all the peaks)\n",
    "all_peaks = pd.read_excel(peak_info, header=0, sheet_name='full_bed', dtype='object')\n",
    "all_peaks.columns = all_peaks.columns.str.strip()  # Strip any extra spaces from column names"
   ]
  },
  {
   "cell_type": "code",
   "execution_count": 26,
   "metadata": {},
   "outputs": [],
   "source": [
    "##Drop the colums with peak names cuz they are no longer nessecary \n",
    "peaks_1000 = peaks_1000.drop(columns=['Peak_Name'])\n",
    "all_peaks = all_peaks.drop(columns=['Peak_Name'])"
   ]
  },
  {
   "cell_type": "code",
   "execution_count": 27,
   "metadata": {},
   "outputs": [],
   "source": [
    "##Filter out the X and Y chrom in the full peak set\n",
    "all_peaks = all_peaks[~all_peaks['Chromosome'].isin(['chrX', 'chrY'])]"
   ]
  },
  {
   "cell_type": "code",
   "execution_count": 28,
   "metadata": {},
   "outputs": [],
   "source": [
    "##Adding column names\n",
    "peaks_1000.columns = ['chrom', 'chromStart', 'chromEnd']\n",
    "all_peaks.columns = ['chrom', 'chromStart', 'chromEnd']\n",
    "\n",
    "# Save to a BED file, which will be used by Brams code for calculating fragment short/long ratio (fslr)\n",
    "bed_file_path = r\"/mnt/c/Users/donna/Downloads/Frags/frags/1000_peaks.bed\"\n",
    "peaks_1000.to_csv(bed_file_path, sep='\\t', header=False, index=False)\n",
    "\n",
    "bed_file_path = r\"/mnt/c/Users/donna/Downloads/Frags/frags/all_peaks.bed\"\n",
    "all_peaks.to_csv(bed_file_path, sep='\\t', header=False, index=False)"
   ]
  }
 ],
 "metadata": {
  "kernelspec": {
   "display_name": "thesis_std",
   "language": "python",
   "name": "python3"
  },
  "language_info": {
   "codemirror_mode": {
    "name": "ipython",
    "version": 3
   },
   "file_extension": ".py",
   "mimetype": "text/x-python",
   "name": "python",
   "nbconvert_exporter": "python",
   "pygments_lexer": "ipython3",
   "version": "3.13.2"
  }
 },
 "nbformat": 4,
 "nbformat_minor": 2
}
