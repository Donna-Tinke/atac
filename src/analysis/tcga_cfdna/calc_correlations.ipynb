{
 "cells": [
  {
   "cell_type": "code",
   "execution_count": 1,
   "metadata": {},
   "outputs": [],
   "source": [
    "import numpy as np\n",
    "import pandas as pd\n",
    "import glob\n",
    "import os\n",
    "from scipy.stats import pearsonr"
   ]
  },
  {
   "cell_type": "code",
   "execution_count": 2,
   "metadata": {},
   "outputs": [],
   "source": [
    "peak_names = pd.read_csv('/mnt/c/Users/donna/Downloads/Thesis/brca_correlaties/TCGA_data/high_var_peaks.csv', header=None).values\n",
    "ff_feature = 'cov_x'"
   ]
  },
  {
   "cell_type": "code",
   "execution_count": 3,
   "metadata": {},
   "outputs": [],
   "source": [
    "# ATAC\n",
    "sample_ids = pd.read_csv('/mnt/c/Users/donna/Downloads/Thesis/brca_correlaties/TCGA_data/coad_sample_ids.csv', header=None).values\n",
    "atac_data =  pd.read_csv('/mnt/c/Users/donna/Downloads/Thesis/brca_correlaties/TCGA_data/high_var_coad.csv', header=None).values"
   ]
  },
  {
   "cell_type": "code",
   "execution_count": 2,
   "metadata": {},
   "outputs": [],
   "source": [
    "bed_df = pd.read_csv(\"/mnt/c/Users/donna/Downloads/Thesis/TSSClassification/beds/dts_beds/high_var_peaks.bed\", sep='\\t', header=None)"
   ]
  },
  {
   "cell_type": "code",
   "execution_count": 3,
   "metadata": {},
   "outputs": [
    {
     "name": "stdout",
     "output_type": "stream",
     "text": [
      "10000\n"
     ]
    }
   ],
   "source": [
    "print(len(bed_df))"
   ]
  },
  {
   "cell_type": "code",
   "execution_count": 6,
   "metadata": {},
   "outputs": [
    {
     "name": "stdout",
     "output_type": "stream",
     "text": [
      "(999, 38)\n"
     ]
    }
   ],
   "source": [
    "print(atac_data.shape)"
   ]
  },
  {
   "cell_type": "code",
   "execution_count": null,
   "metadata": {},
   "outputs": [],
   "source": [
    "# cfDNA\n",
    "ff_path = '/mnt/c/Users/donna/Downloads/Thesis/data/allcf_test'"
   ]
  },
  {
   "cell_type": "code",
   "execution_count": 8,
   "metadata": {},
   "outputs": [],
   "source": [
    "## Funtcion to check for constan values\n",
    "def is_constant(array):\n",
    "    \"\"\"Check if a NumPy array contains constant values (all elements are equal).\"\"\"\n",
    "    return np.all(array == array[0])"
   ]
  },
  {
   "cell_type": "code",
   "execution_count": null,
   "metadata": {},
   "outputs": [],
   "source": [
    "def calc_correlations(atac_data, atac_samples, ff_path, ff_feature):\n",
    "        file_names = [f for f in os.listdir(ff_path) if f.endswith(\".csv\")]\n",
    "        column_headers = [f.split('.')[0] for f in file_names]\n",
    "\n",
    "        flat_sample_ids = [x[0] if isinstance(x, (list, tuple, np.ndarray)) else x for x in atac_samples]\n",
    "\n",
    "        corr_mat = pd.DataFrame(\n",
    "            np.nan,\n",
    "            index= flat_sample_ids,\n",
    "            columns=column_headers\n",
    "        )\n",
    "        \n",
    "        \n",
    "        for ff_file in file_names:\n",
    "            cf_file_path = os.path.join(ff_path, ff_file)\n",
    "            cf_sample = pd.read_csv(cf_file_path, header=0, dtype='object', usecols=[ff_feature])\n",
    "            # cf_sample = cf_sample.drop(index=0).reset_index(drop=True)\n",
    "            cf_sample = cf_sample.astype(float).values.flatten()\n",
    "            \n",
    "            for i in range(atac_data.shape[1]):\n",
    "                atac_sample = atac_data[:, i]\n",
    "                # atac_sample, cf_sample = atac_sample.align(ff_sample, join='inner') \n",
    "            \n",
    "                # Skip correlation calculation if one of the columns has NaN, or is constant\n",
    "                if np.isnan(atac_sample).all():\n",
    "                    print(f\"Skipping an atac sample due to all NaN values.\")\n",
    "                    continue\n",
    "\n",
    "                if np.isnan(cf_sample).all():\n",
    "                    print(f\"Skipping a fragment feature file due to all NaN values.\")\n",
    "                    continue\n",
    "\n",
    "                if is_constant(atac_sample):\n",
    "                    print(f\"Skipping an atac sample due to constant values.\")\n",
    "                    continue\n",
    "\n",
    "                if is_constant(cf_sample):\n",
    "                    print(f\"Skipping a fragment feature file due to constant values.\")\n",
    "                    continue\n",
    "                print(cf_sample.shape)\n",
    "                print(atac_sample.shape)\n",
    "        #         # Calculate the Pearson correlation\n",
    "        #         corr, _ = pearsonr(atac_sample, cf_sample)\n",
    "                \n",
    "        #         # Store the correlation value in the matrix\n",
    "        #         col_name = ff_file.split('.')[0]\n",
    "        #         corr_mat.loc[flat_sample_ids[i], col_name] = corr\n",
    "        \n",
    "        # #Save the correlation matrix for a cancer type\n",
    "        # corr_mat.to_csv('/mnt/c/Users/donna/Downloads/Thesis/correlation_results/test/coad_atac_brca_cfDNA.csv', index= True) "
   ]
  },
  {
   "cell_type": "code",
   "execution_count": 10,
   "metadata": {},
   "outputs": [
    {
     "name": "stdout",
     "output_type": "stream",
     "text": [
      "(1000,)\n",
      "(999,)\n",
      "(1000,)\n",
      "(999,)\n",
      "(1000,)\n",
      "(999,)\n",
      "(1000,)\n",
      "(999,)\n",
      "(1000,)\n",
      "(999,)\n",
      "(1000,)\n",
      "(999,)\n",
      "(1000,)\n",
      "(999,)\n",
      "(1000,)\n",
      "(999,)\n",
      "(1000,)\n",
      "(999,)\n",
      "(1000,)\n",
      "(999,)\n",
      "(1000,)\n",
      "(999,)\n",
      "(1000,)\n",
      "(999,)\n",
      "(1000,)\n",
      "(999,)\n",
      "(1000,)\n",
      "(999,)\n",
      "(1000,)\n",
      "(999,)\n",
      "(1000,)\n",
      "(999,)\n",
      "(1000,)\n",
      "(999,)\n",
      "(1000,)\n",
      "(999,)\n",
      "(1000,)\n",
      "(999,)\n",
      "(1000,)\n",
      "(999,)\n",
      "(1000,)\n",
      "(999,)\n",
      "(1000,)\n",
      "(999,)\n",
      "(1000,)\n",
      "(999,)\n",
      "(1000,)\n",
      "(999,)\n",
      "(1000,)\n",
      "(999,)\n",
      "(1000,)\n",
      "(999,)\n",
      "(1000,)\n",
      "(999,)\n",
      "(1000,)\n",
      "(999,)\n",
      "(1000,)\n",
      "(999,)\n",
      "(1000,)\n",
      "(999,)\n",
      "(1000,)\n",
      "(999,)\n",
      "(1000,)\n",
      "(999,)\n",
      "(1000,)\n",
      "(999,)\n",
      "(1000,)\n",
      "(999,)\n",
      "(1000,)\n",
      "(999,)\n",
      "(1000,)\n",
      "(999,)\n",
      "(1000,)\n",
      "(999,)\n",
      "(1000,)\n",
      "(999,)\n"
     ]
    }
   ],
   "source": [
    "coad_atac_coad_cfDNA = calc_correlations(atac_data, sample_ids, ff_path, ff_feature)"
   ]
  },
  {
   "cell_type": "code",
   "execution_count": null,
   "metadata": {},
   "outputs": [],
   "source": []
  }
 ],
 "metadata": {
  "kernelspec": {
   "display_name": "thesis_std",
   "language": "python",
   "name": "python3"
  },
  "language_info": {
   "codemirror_mode": {
    "name": "ipython",
    "version": 3
   },
   "file_extension": ".py",
   "mimetype": "text/x-python",
   "name": "python",
   "nbconvert_exporter": "python",
   "pygments_lexer": "ipython3",
   "version": "3.13.2"
  }
 },
 "nbformat": 4,
 "nbformat_minor": 2
}
