{
 "cells": [
  {
   "cell_type": "code",
   "execution_count": 1,
   "metadata": {},
   "outputs": [],
   "source": [
    "import numpy as np\n",
    "import pandas as pd\n",
    "import glob\n",
    "import os\n",
    "from scipy.stats import pearsonr"
   ]
  },
  {
   "cell_type": "code",
   "execution_count": 2,
   "metadata": {},
   "outputs": [],
   "source": [
    "peak_names = pd.read_csv('/mnt/c/Users/donna/Downloads/Thesis/brca_correlaties/TCGA_data/filtered_peak_names.csv', header=None).values\n",
    "sample_ids = pd.read_csv('/mnt/c/Users/donna/Downloads/Thesis/brca_correlaties/TCGA_data/brca_sample_ids.csv', header=None).values\n",
    "atac_data =  pd.read_csv('/mnt/c/Users/donna/Downloads/Thesis/brca_correlaties/TCGA_data/brca_atac_data.csv', header=None).values"
   ]
  },
  {
   "cell_type": "code",
   "execution_count": 3,
   "metadata": {},
   "outputs": [],
   "source": [
    "def calc_correlations(atac_data, atac_samples):\n",
    "    flat_sample_ids = [x[0] if isinstance(x, (list, tuple, np.ndarray)) else x for x in atac_samples]\n",
    "\n",
    "    corr_mat = pd.DataFrame(\n",
    "        np.nan,\n",
    "        index= flat_sample_ids,\n",
    "        columns= flat_sample_ids\n",
    "    )\n",
    "\n",
    "    for i in range(atac_data.shape[1]):\n",
    "        atac_sample1 = atac_data[:, i]\n",
    "\n",
    "        for j in range(atac_data.shape[1]):\n",
    "            atac_sample2 = atac_data[:, j]\n",
    "            # Calculate the Pearson correlation\n",
    "            corr, _ = pearsonr(atac_sample1, atac_sample2)\n",
    "\n",
    "            # Store the correlation value in the matrix\n",
    "            corr_mat.loc[flat_sample_ids[i], flat_sample_ids[j]] = corr\n",
    "\n",
    "    corr_mat.to_csv('/mnt/c/Users/donna/Downloads/Thesis/correlation_results/atac_only/brca_atac_cor.csv', index= True) \n",
    "    \n",
    "    return corr_mat"
   ]
  },
  {
   "cell_type": "code",
   "execution_count": 4,
   "metadata": {},
   "outputs": [],
   "source": [
    "brca_brca = calc_correlations(atac_data, sample_ids)"
   ]
  },
  {
   "cell_type": "code",
   "execution_count": 5,
   "metadata": {},
   "outputs": [
    {
     "ename": "NameError",
     "evalue": "name 'coad_coad' is not defined",
     "output_type": "error",
     "traceback": [
      "\u001b[31m---------------------------------------------------------------------------\u001b[39m",
      "\u001b[31mNameError\u001b[39m                                 Traceback (most recent call last)",
      "\u001b[36mCell\u001b[39m\u001b[36m \u001b[39m\u001b[32mIn[5]\u001b[39m\u001b[32m, line 1\u001b[39m\n\u001b[32m----> \u001b[39m\u001b[32m1\u001b[39m \u001b[38;5;28mprint\u001b[39m(\u001b[43mcoad_coad\u001b[49m.shape)\n\u001b[32m      2\u001b[39m \u001b[38;5;28mprint\u001b[39m(brca_brca.shape)\n",
      "\u001b[31mNameError\u001b[39m: name 'coad_coad' is not defined"
     ]
    }
   ],
   "source": [
    "print(coad_coad.shape)\n",
    "print(brca_brca.shape)\n"
   ]
  }
 ],
 "metadata": {
  "kernelspec": {
   "display_name": "thesis_std",
   "language": "python",
   "name": "python3"
  },
  "language_info": {
   "codemirror_mode": {
    "name": "ipython",
    "version": 3
   },
   "file_extension": ".py",
   "mimetype": "text/x-python",
   "name": "python",
   "nbconvert_exporter": "python",
   "pygments_lexer": "ipython3",
   "version": "3.13.2"
  }
 },
 "nbformat": 4,
 "nbformat_minor": 2
}
