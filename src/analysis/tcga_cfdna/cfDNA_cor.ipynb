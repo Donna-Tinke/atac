{
 "cells": [
  {
   "cell_type": "code",
   "execution_count": 1,
   "metadata": {},
   "outputs": [],
   "source": [
    "import numpy as np\n",
    "import pandas as pd\n",
    "import glob\n",
    "import os\n",
    "from scipy.stats import pearsonr"
   ]
  },
  {
   "cell_type": "code",
   "execution_count": 2,
   "metadata": {},
   "outputs": [],
   "source": [
    "peak_names = pd.read_csv('/mnt/c/Users/donna/Downloads/Thesis/brca_correlaties/TCGA_data/filtered_peak_names.csv', header=None).values\n",
    "ff_feature = 'cov_x'"
   ]
  },
  {
   "cell_type": "code",
   "execution_count": 3,
   "metadata": {},
   "outputs": [],
   "source": [
    "ff_path = '/mnt/c/Users/donna/Downloads/Thesis/TSSClassification/results/04-15_10-32_all_brca'"
   ]
  },
  {
   "cell_type": "code",
   "execution_count": 4,
   "metadata": {},
   "outputs": [],
   "source": [
    "def calc_correlations(ff_path, ff_feature):\n",
    "        file_names = [f for f in os.listdir(ff_path) if f.endswith(\".csv\")]\n",
    "        column_headers = [f.split('.')[0] for f in file_names]\n",
    "\n",
    "        corr_mat = pd.DataFrame(\n",
    "            np.nan,\n",
    "            index= column_headers,\n",
    "            columns=column_headers\n",
    "        )\n",
    "\n",
    "        for ff_file1 in file_names: ##Rows \n",
    "            cf_file_path = os.path.join(ff_path, ff_file1)\n",
    "            cf_sample1 = pd.read_csv(cf_file_path, header=0, dtype='object', usecols=[ff_feature])\n",
    "            cf_sample1 = cf_sample1.astype(float).values.flatten()\n",
    "\n",
    "            for ff_file2 in file_names: ##Columns\n",
    "                cf_file_path = os.path.join(ff_path, ff_file2)\n",
    "                cf_sample2 = pd.read_csv(cf_file_path, header=0, dtype='object', usecols=[ff_feature])\n",
    "                cf_sample2 = cf_sample2.astype(float).values.flatten()\n",
    "\n",
    "                # Calculate the Pearson correlation\n",
    "                corr, _ = pearsonr(cf_sample1, cf_sample2)\n",
    "                \n",
    "                # Store the correlation value in the matrix\n",
    "                col_name1 = ff_file1.split('.')[0]\n",
    "                col_name2 = ff_file2.split('.')[0]\n",
    "                corr_mat.loc[col_name1, col_name2] = corr\n",
    "\n",
    "\n",
    "        #Save the correlation matrix for a cancer type\n",
    "        corr_mat.to_csv('/correlation_results/cfDNA_only/brca_cfDNA_cor.csv', index= True)"
   ]
  },
  {
   "cell_type": "code",
   "execution_count": 9,
   "metadata": {},
   "outputs": [],
   "source": [
    "cfDNA_cor = calc_correlations(ff_path, ff_feature)"
   ]
  }
 ],
 "metadata": {
  "kernelspec": {
   "display_name": "thesis_std",
   "language": "python",
   "name": "python3"
  },
  "language_info": {
   "codemirror_mode": {
    "name": "ipython",
    "version": 3
   },
   "file_extension": ".py",
   "mimetype": "text/x-python",
   "name": "python",
   "nbconvert_exporter": "python",
   "pygments_lexer": "ipython3",
   "version": "3.13.2"
  }
 },
 "nbformat": 4,
 "nbformat_minor": 2
}
