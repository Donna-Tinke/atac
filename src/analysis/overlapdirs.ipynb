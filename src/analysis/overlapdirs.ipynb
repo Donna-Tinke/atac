{
 "cells": [
  {
   "cell_type": "code",
   "execution_count": 20,
   "id": "af3bfe30",
   "metadata": {},
   "outputs": [],
   "source": [
    "import pandas as pd\n",
    "import numpy as np"
   ]
  },
  {
   "cell_type": "code",
   "execution_count": 27,
   "id": "04495c32",
   "metadata": {},
   "outputs": [],
   "source": [
    "cancer = 'brca'"
   ]
  },
  {
   "cell_type": "code",
   "execution_count": 28,
   "id": "d4675bff",
   "metadata": {},
   "outputs": [],
   "source": [
    "atac_df = pd.read_csv(f\"/mnt/c/Users/donna/Downloads/Thesis/tacje/atac_volcano_celltypes_{cancer}.csv\")\n",
    "scrna_df = pd.read_csv(f\"/mnt/c/Users/donna/Downloads/Thesis/tacje/scrna_volcano_celltypes_{cancer}.csv\")"
   ]
  },
  {
   "cell_type": "code",
   "execution_count": 29,
   "id": "845808d9",
   "metadata": {},
   "outputs": [],
   "source": [
    "atac_df = atac_df.rename(columns={\"direction\": \"direction_atac\"})\n",
    "scrna_df = scrna_df.rename(columns={\"direction\": \"direction_scrna\"})"
   ]
  },
  {
   "cell_type": "code",
   "execution_count": 30,
   "id": "cc4e48a8",
   "metadata": {},
   "outputs": [],
   "source": [
    "merged = pd.merge(\n",
    "    atac_df[[\"cell_type\", \"direction_atac\", \"pval\", \"log2FC\", \"compartment\"]],\n",
    "    scrna_df[[\"cell_type\", \"direction_scrna\", \"pval\", \"log2FC\", \"compartment\"]],\n",
    "    on=\"cell_type\",\n",
    "    how=\"inner\",  # only keep common cell types\n",
    "    suffixes=(\"_atac\", \"_scrna\")\n",
    ")\n",
    "\n",
    "\n",
    "merged = merged.drop(columns=[\"compartment_atac\"])\n",
    "merged = merged.rename(columns={\"compartment_scrna\": \"compartment\"})"
   ]
  },
  {
   "cell_type": "code",
   "execution_count": 31,
   "id": "006ddde8",
   "metadata": {},
   "outputs": [],
   "source": [
    "merged[\"direction_change\"] = merged[\"direction_atac\"] + \" → \" + merged[\"direction_scrna\"]\n",
    "merged[\"delta_log2FC\"] = merged[\"log2FC_scrna\"] - merged[\"log2FC_atac\"]\n",
    "\n",
    "\n",
    "changed = merged[merged[\"direction_atac\"] != merged[\"direction_scrna\"]]\n",
    "unchanged = merged[merged[\"direction_atac\"] == merged[\"direction_scrna\"]]"
   ]
  },
  {
   "cell_type": "code",
   "execution_count": 32,
   "id": "2d07774d",
   "metadata": {},
   "outputs": [],
   "source": [
    "merged.to_csv(f\"/mnt/c/Users/donna/Downloads/Thesis/tacje/{cancer}_all_shifts.csv\", index=False)\n",
    "changed.to_csv(f\"/mnt/c/Users/donna/Downloads/Thesis/tacje/{cancer}_changed_celltypes.csv\", index=False)\n",
    "unchanged.to_csv(f\"/mnt/c/Users/donna/Downloads/Thesis/tacje/{cancer}_unchanged_celltypes.csv\", index=False)"
   ]
  },
  {
   "cell_type": "code",
   "execution_count": null,
   "id": "81de4caf",
   "metadata": {},
   "outputs": [],
   "source": []
  },
  {
   "cell_type": "code",
   "execution_count": null,
   "id": "9a21e8e7",
   "metadata": {},
   "outputs": [],
   "source": []
  }
 ],
 "metadata": {
  "kernelspec": {
   "display_name": "thesis_std",
   "language": "python",
   "name": "python3"
  },
  "language_info": {
   "codemirror_mode": {
    "name": "ipython",
    "version": 3
   },
   "file_extension": ".py",
   "mimetype": "text/x-python",
   "name": "python",
   "nbconvert_exporter": "python",
   "pygments_lexer": "ipython3",
   "version": "3.13.2"
  }
 },
 "nbformat": 4,
 "nbformat_minor": 5
}
