{
 "cells": [
  {
   "cell_type": "code",
   "execution_count": 1,
   "id": "202c5716",
   "metadata": {},
   "outputs": [],
   "source": [
    "import pandas as pd"
   ]
  },
  {
   "cell_type": "code",
   "execution_count": 41,
   "id": "00571098",
   "metadata": {},
   "outputs": [],
   "source": [
    "df1 = pd.read_csv(\"/mnt/c/Users/donna/Downloads/Thesis/tacje/celltype_level/coad_ranks.csv\")   \n",
    "df2 = pd.read_excel(\"/mnt/c/Users/donna/Downloads/Thesis/rankjes/paper_data.xlsx\") "
   ]
  },
  {
   "cell_type": "code",
   "execution_count": 42,
   "id": "1c186802",
   "metadata": {},
   "outputs": [],
   "source": [
    "def normalize(s):\n",
    "    return s.replace(\", \", \"_\").replace(\" \", \"_\").replace(\"-\", \"_\").lower()\n",
    "\n",
    "\n",
    "df1['cell_type_norm'] = df1['cell_type'].apply(normalize)\n",
    "df2['cell_type_norm'] = df2['cell_type'].apply(normalize)\n"
   ]
  },
  {
   "cell_type": "code",
   "execution_count": 43,
   "id": "22206659",
   "metadata": {},
   "outputs": [],
   "source": [
    "compartment_map = df2.set_index('cell_type_norm')['compartment'].to_dict()\n",
    "df1['cell_type_group'] = df1['cell_type_norm'].map(compartment_map).fillna('unknown')"
   ]
  },
  {
   "cell_type": "code",
   "execution_count": 45,
   "id": "e90db827",
   "metadata": {},
   "outputs": [
    {
     "name": "stdout",
     "output_type": "stream",
     "text": [
      "         sample                              cell_type tissue  rank  \\\n",
      "0  CRC--EE87880  CD8-positive, alpha-beta T cell_heart  heart    49   \n",
      "1  CRC--EE87880         cardiac endothelial cell_heart  heart    45   \n",
      "2  CRC--EE87880     fibroblast of cardiac tissue_heart  heart    54   \n",
      "3  CRC--EE87880                       macrophage_heart  heart    56   \n",
      "4  CRC--EE87880                 mesothelial cell_heart  heart    70   \n",
      "\n",
      "                         cell_type_norm cell_type_group  \n",
      "0  cd8_positive_alpha_beta_t_cell_heart         unknown  \n",
      "1        cardiac_endothelial_cell_heart     Endothelial  \n",
      "2    fibroblast_of_cardiac_tissue_heart         Stromal  \n",
      "3                      macrophage_heart          Immune  \n",
      "4                mesothelial_cell_heart         unknown  \n"
     ]
    }
   ],
   "source": [
    "df1.to_csv(\"/mnt/c/Users/donna/Downloads/Thesis/tacje/celltype_level/coad_ranks.csv\", index=False)\n",
    "print(df1.head())"
   ]
  },
  {
   "cell_type": "code",
   "execution_count": null,
   "id": "929d66f5",
   "metadata": {},
   "outputs": [],
   "source": []
  }
 ],
 "metadata": {
  "kernelspec": {
   "display_name": "thesis_std",
   "language": "python",
   "name": "python3"
  },
  "language_info": {
   "codemirror_mode": {
    "name": "ipython",
    "version": 3
   },
   "file_extension": ".py",
   "mimetype": "text/x-python",
   "name": "python",
   "nbconvert_exporter": "python",
   "pygments_lexer": "ipython3",
   "version": "3.13.2"
  }
 },
 "nbformat": 4,
 "nbformat_minor": 5
}
