{
 "cells": [
  {
   "cell_type": "code",
   "execution_count": 22,
   "id": "81359556",
   "metadata": {},
   "outputs": [],
   "source": [
    "import numpy as np\n",
    "import pandas as pd\n",
    "import glob\n",
    "import os\n",
    "from scipy.stats import pearsonr\n",
    "import anndata as ad\n",
    "from scipy.sparse import csr_matrix\n",
    "from scipy.stats import zscore\n",
    "import time\n",
    "from scipy.sparse import issparse\n",
    "import re"
   ]
  },
  {
   "cell_type": "code",
   "execution_count": 23,
   "id": "b8d26c68",
   "metadata": {},
   "outputs": [],
   "source": [
    "# Bed \n",
    "bed = pd.read_csv(\"/mnt/c/Users/donna/Downloads/Thesis/TSSClassification/beds/dts_beds/atac_match.bed\", sep='\\t', header=None)"
   ]
  },
  {
   "cell_type": "code",
   "execution_count": 24,
   "id": "c3b8595c",
   "metadata": {},
   "outputs": [],
   "source": [
    "# cfDNA\n",
    "ff_path = '/mnt/c/Users/donna/Downloads/Thesis/data/cftest'\n",
    "feature = 'cov_spread'\n",
    "file_names = [f for f in os.listdir(ff_path) if f.endswith(\".csv\")]"
   ]
  },
  {
   "cell_type": "code",
   "execution_count": 25,
   "id": "ea438bea",
   "metadata": {},
   "outputs": [],
   "source": [
    "# atac\n",
    "atac_df = pd.read_csv(\"/mnt/c/Users/donna/Downloads/Thesis/tacje/tissue_mean_atac_signals.csv\", index_col=0, header=0)"
   ]
  },
  {
   "cell_type": "code",
   "execution_count": null,
   "id": "b0d912c6",
   "metadata": {},
   "outputs": [],
   "source": [
    "bed_genes = bed.iloc[:, 3].tolist()\n",
    "filtered_atac = atac_df.loc[:, atac_df.columns.isin(bed_genes)]"
   ]
  },
  {
   "cell_type": "code",
   "execution_count": 26,
   "id": "d8a3f9b4",
   "metadata": {},
   "outputs": [],
   "source": [
    "cf_samples = []\n",
    "\n",
    "# Load each cfDNA file and append to list\n",
    "for ff_file in file_names:\n",
    "    cf_file_path = os.path.join(ff_path, ff_file)\n",
    "    cf_sample = pd.read_csv(cf_file_path, header=0, dtype='object', usecols=[feature])\n",
    "    cf_sample = cf_sample.astype(float).values.flatten()\n",
    "    cf_samples.append(cf_sample)\n",
    "    ## Elke row is een sample\n",
    "\n",
    "sample_names = [re.match(r\"^[^\\.]+\", f).group(0) for f in file_names]\n",
    "cf_df = pd.DataFrame(cf_samples, index=sample_names)"
   ]
  },
  {
   "cell_type": "code",
   "execution_count": 41,
   "id": "5f37ec35",
   "metadata": {},
   "outputs": [],
   "source": [
    "cf_z = (cf_df - cf_df.mean(axis=1).values[:, None]) / cf_df.std(axis=1).values[:, None]\n",
    "atac_z = (filtered_atac - filtered_atac.mean(axis=1).values[:, None]) / filtered_atac.std(axis=1).values[:, None]\n",
    "\n",
    "# Compute pairwise Pearson correlation (dot product of z-scores)\n",
    "corr_matrix = np.dot(cf_z.values, atac_z.values.T) / cf_z.shape[1]\n",
    "corr_matrix = np.abs(corr_matrix)\n",
    "\n",
    "# Convert to DataFrame with proper labels\n",
    "corr_df = pd.DataFrame(corr_matrix, index=cf_df.index, columns=atac_df.index)"
   ]
  },
  {
   "cell_type": "code",
   "execution_count": 42,
   "id": "81b75bd0",
   "metadata": {},
   "outputs": [
    {
     "name": "stdout",
     "output_type": "stream",
     "text": [
      "                  adipose_omentum  adrenal_gland  artery_aorta  \\\n",
      "control--EE88162         0.016258       0.020607      0.014448   \n",
      "\n",
      "                  esophagus_mucosa  heart_lv     liver      lung  \\\n",
      "control--EE88162          0.015769  0.018661  0.019001  0.019661   \n",
      "\n",
      "                  mammary_tissue    muscle     ovary  pancreas      skin  \\\n",
      "control--EE88162        0.015557  0.016343  0.014433  0.018658  0.019318   \n",
      "\n",
      "                  small_intestine   stomach   thyroid    uterus    vagina  \n",
      "control--EE88162         0.018617  0.017241  0.016188  0.014862  0.013547  \n"
     ]
    }
   ],
   "source": [
    "print(corr_df)"
   ]
  },
  {
   "cell_type": "code",
   "execution_count": 43,
   "id": "2002d21d",
   "metadata": {},
   "outputs": [],
   "source": [
    "ranked_df = corr_df.rank(axis=1, ascending=False, method='min')\n"
   ]
  },
  {
   "cell_type": "code",
   "execution_count": null,
   "id": "a09636d4",
   "metadata": {},
   "outputs": [],
   "source": [
    "corr_df.to_csv(\"tacje/abs_cor_mat.csv\")\n",
    "ranked_df.to_csv(\"tacje/ranked_cor_mat.csv\")"
   ]
  }
 ],
 "metadata": {
  "kernelspec": {
   "display_name": "thesis_std",
   "language": "python",
   "name": "python3"
  },
  "language_info": {
   "codemirror_mode": {
    "name": "ipython",
    "version": 3
   },
   "file_extension": ".py",
   "mimetype": "text/x-python",
   "name": "python",
   "nbconvert_exporter": "python",
   "pygments_lexer": "ipython3",
   "version": "3.13.2"
  }
 },
 "nbformat": 4,
 "nbformat_minor": 5
}
