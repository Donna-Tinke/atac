{
 "cells": [
  {
   "cell_type": "code",
   "execution_count": 1,
   "id": "5543c52d",
   "metadata": {},
   "outputs": [],
   "source": [
    "import numpy as np\n",
    "import pandas as pd\n",
    "import glob\n",
    "import os\n",
    "from scipy.stats import pearsonr\n",
    "import anndata as ad\n",
    "from scipy.sparse import csr_matrix\n",
    "from scipy.stats import zscore\n",
    "import time\n",
    "from scipy.sparse import issparse\n",
    "import re"
   ]
  },
  {
   "cell_type": "code",
   "execution_count": 2,
   "id": "a64e266b",
   "metadata": {},
   "outputs": [],
   "source": [
    "atac_path = '/mnt/c/Users/donna/Downloads/Thesis/data/atac_files'"
   ]
  },
  {
   "cell_type": "code",
   "execution_count": 3,
   "id": "c139fcbf",
   "metadata": {},
   "outputs": [],
   "source": [
    "ann_genes = pd.read_csv('/mnt/c/Users/donna/Downloads/Thesis/atac_expres/ann_genes.csv')"
   ]
  },
  {
   "cell_type": "code",
   "execution_count": 4,
   "id": "6052786d",
   "metadata": {},
   "outputs": [],
   "source": [
    "ann_genes = ann_genes['feature_name'].astype(str)"
   ]
  },
  {
   "cell_type": "code",
   "execution_count": 7,
   "id": "cb89f0c1",
   "metadata": {},
   "outputs": [
    {
     "name": "stdout",
     "output_type": "stream",
     "text": [
      "['', 'heart', '']\n",
      "heart\n",
      "['', 'liver', '']\n",
      "liver\n",
      "['', 'mammary', '']\n",
      "mammary\n",
      "['', 'muscle', '']\n",
      "muscle\n",
      "['', 'ovary', '']\n",
      "ovary\n",
      "['', 'pancreas', '']\n",
      "pancreas\n",
      "['', 'skin', '']\n",
      "skin\n",
      "['', 'small_intestine', '']\n",
      "small_intestine\n",
      "['', 'stomach', '']\n",
      "stomach\n",
      "['', 'uterus', '']\n",
      "uterus\n",
      "{'heart': 'atac_nearest_cell_types_heart_harmony.npy', 'liver': 'atac_nearest_cell_types_liver_harmony.npy', 'mammary': 'atac_nearest_cell_types_mammary_harmony.npy', 'muscle': 'atac_nearest_cell_types_muscle_harmony.npy', 'ovary': 'atac_nearest_cell_types_ovary_harmony.npy', 'pancreas': 'atac_nearest_cell_types_pancreas_harmony.npy', 'skin': 'atac_nearest_cell_types_skin_harmony.npy', 'small_intestine': 'atac_nearest_cell_types_small_intestine_harmony.npy', 'stomach': 'atac_nearest_cell_types_stomach_harmony.npy', 'uterus': 'atac_nearest_cell_types_uterus_harmony.npy'}\n"
     ]
    }
   ],
   "source": [
    "npy_file_map = {}\n",
    "for fname in os.listdir(atac_path):\n",
    "    if not fname.endswith('.npy'):\n",
    "        continue\n",
    "    parts = re.split(r'atac_nearest_cell_types_|_harmony.npy', fname)\n",
    "    if len(parts) > 3:\n",
    "        tissue = parts[1] + '_' + parts[2]\n",
    "    else:\n",
    "        tissue = parts[1]\n",
    "    npy_file_map[tissue] = fname\n",
    "    print(parts)\n",
    "    print(tissue)\n",
    "\n",
    "print(npy_file_map)"
   ]
  },
  {
   "cell_type": "code",
   "execution_count": 9,
   "id": "5d886345",
   "metadata": {},
   "outputs": [
    {
     "name": "stdout",
     "output_type": "stream",
     "text": [
      "\n",
      "▶ Processing tissue: adipose_omentum\n",
      "❌ No matching .npy file for adipose_omentum\n",
      "\n",
      "▶ Processing tissue: adrenal_gland\n",
      "❌ No matching .npy file for adrenal_gland\n",
      "\n",
      "▶ Processing tissue: artery_aorta\n",
      "❌ No matching .npy file for artery_aorta\n",
      "\n",
      "▶ Processing tissue: pancreas\n",
      "\n",
      "▶ Processing tissue: skin\n",
      "\n",
      "▶ Processing tissue: small_intestine\n",
      "\n",
      "▶ Processing tissue: stomach\n",
      "\n",
      "▶ Processing tissue: thyroid\n",
      "❌ No matching .npy file for thyroid\n",
      "\n",
      "▶ Processing tissue: uterus\n",
      "\n",
      "▶ Processing tissue: vagina\n",
      "❌ No matching .npy file for vagina\n"
     ]
    }
   ],
   "source": [
    "for csv_file in os.listdir(atac_path):\n",
    "    if not csv_file.endswith('.csv'):\n",
    "        continue\n",
    "\n",
    "    # tissue_data = pd.read_csv(os.path.join(atac_path, csv_file))\n",
    "\n",
    "    # Parse tissue name\n",
    "    tissue = csv_file.replace(\"tissue_subset_\", \"\").replace(\".csv\", \"\")\n",
    "\n",
    "    print(f\"\\n▶ Processing tissue: {tissue}\")\n",
    "\n",
    "    # Match corresponding .npy file\n",
    "    if tissue not in npy_file_map:\n",
    "        print(f\"❌ No matching .npy file for {tissue}\")\n",
    "        continue\n",
    "\n",
    "    # types_file = npy_file_map[tissue]\n",
    "    # cell_types = np.load(os.path.join(atac_path, types_file))\n",
    "    # cell_types = cell_types.astype(str)  # Make sure it's string\n",
    "\n",
    "    # # Filter on matching genes\n",
    "    # tissue_data = tissue_data.loc[:, tissue_data.columns.isin(ann_genes)]\n",
    "    # print(f\"Filtered matrix shape: {tissue_data.shape}\")\n",
    "\n",
    "\n",
    "    # tissue_data['cell_type'] = cell_types\n",
    "    # mean_matrix = tissue_data.groupby('cell_type').mean()\n",
    "\n",
    "    # # Save cell type labels (optional)\n",
    "    # cell_type_df = pd.DataFrame({'cell_type': cell_types})\n",
    "    # cell_type_df.to_csv(f'data/atac_files/cell_type_mean/{tissue}_cell_types_raw.csv', index=False)\n",
    "\n",
    "    # # Save mean matrix\n",
    "    # out_path = f'data/atac_files/celltype_mats/{tissue}.csv'\n",
    "    # mean_matrix.to_csv(out_path)\n",
    "    # print(f\"✅ Saved mean matrix to {out_path}\")"
   ]
  },
  {
   "cell_type": "code",
   "execution_count": null,
   "id": "26e70440",
   "metadata": {},
   "outputs": [
    {
     "ename": "",
     "evalue": "",
     "output_type": "error",
     "traceback": [
      "\u001b[1;31mThe Kernel crashed while executing code in the current cell or a previous cell. \n",
      "\u001b[1;31mPlease review the code in the cell(s) to identify a possible cause of the failure. \n",
      "\u001b[1;31mClick <a href='https://aka.ms/vscodeJupyterKernelCrash'>here</a> for more info. \n",
      "\u001b[1;31mView Jupyter <a href='command:jupyter.viewOutput'>log</a> for further details."
     ]
    }
   ],
   "source": [
    "for my_file in os.listdir(atac_path):\n",
    "    if not my_file.endswith('.csv'):\n",
    "        continue\n",
    "    tissue_data = pd.read_csv(os.path.join(atac_path, my_file))\n",
    "    parts = my_file.split('_')\n",
    "    parts[-1] = parts[-1].replace('.csv', '')\n",
    "    print(parts)\n",
    "    if (len(parts) - 1) > 3:\n",
    "        tissue = parts[2] + '_' + parts[3]\n",
    "    else:\n",
    "        tissue = parts[2]\n",
    "    print(tissue)  \n",
    "\n",
    "    ##Filteren op matching genes\n",
    "    tissue_data = tissue_data.loc[:, tissue_data.columns.isin(ann_genes)]\n",
    "\n",
    "    print(tissue_data.shape)\n",
    "    for types_file in os.listdir(atac_path):\n",
    "        if not types_file.endswith('.npy'):\n",
    "            continue\n",
    "        npy_parts = re.split(r'atac_nearest_cell_types_|_harmony.npy', types_file)\n",
    "        print(npy_parts)\n",
    "        if len(npy_parts) > 3:\n",
    "            npy_tissue = npy_parts[1] + '_' + npy_parts[2]\n",
    "        else:\n",
    "            npy_tissue = npy_parts[1]\n",
    "            print(npy_tissue)\n",
    "        if npy_tissue == tissue:\n",
    "            cell_types = np.load(os.path.join(atac_path, types_file))\n",
    "            print(cell_types)\n",
    "            num_cols = tissue_data.select_dtypes(include='number')\n",
    "            cell_types_str = cell_types.astype(str)\n",
    "            num_cols['cell_type'] = cell_types_str\n",
    "            num_cols = num_cols.groupby('cell_type').mean()\n",
    "            print(num_cols)\n",
    "\n",
    "            cell_type_df = pd.DataFrame({'cell_type': cell_types_str})\n",
    "            cell_type_df.to_csv(f'data/test/{tissue}_cell_types_raw.csv', index=False)\n",
    "            num_cols = num_cols.groupby('cell_type').mean()\n",
    "\n",
    "            print(num_cols)\n",
    "\n",
    "           num_cols.to_csv(f'data/test/{tissue}.csv', index=False)"
   ]
  }
 ],
 "metadata": {
  "kernelspec": {
   "display_name": "thesis_std",
   "language": "python",
   "name": "python3"
  },
  "language_info": {
   "codemirror_mode": {
    "name": "ipython",
    "version": 3
   },
   "file_extension": ".py",
   "mimetype": "text/x-python",
   "name": "python",
   "nbconvert_exporter": "python",
   "pygments_lexer": "ipython3",
   "version": "3.13.2"
  }
 },
 "nbformat": 4,
 "nbformat_minor": 5
}
