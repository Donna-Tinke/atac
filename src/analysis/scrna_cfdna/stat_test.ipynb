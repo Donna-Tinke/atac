{
 "cells": [
  {
   "cell_type": "code",
   "execution_count": 13,
   "id": "95fbc347",
   "metadata": {},
   "outputs": [],
   "source": [
    "import os\n",
    "import pandas as pd\n",
    "import numpy as np\n",
    "from scipy.stats import mannwhitneyu, rankdata"
   ]
  },
  {
   "cell_type": "code",
   "execution_count": null,
   "id": "25844f81",
   "metadata": {},
   "outputs": [],
   "source": [
    "dir_control = \"/mnt/c/Users/donna/Downloads/Thesis/correlation_results/scrna/fslr_coad\"\n",
    "dir_coad = \"/mnt/c/Users/donna/Downloads/Thesis/correlation_results/scrna/control/features/fslr\""
   ]
  },
  {
   "cell_type": "code",
   "execution_count": 61,
   "id": "ee8b79f0",
   "metadata": {},
   "outputs": [],
   "source": [
    "def load_correlation_matrices(directory):\n",
    "    correlation_matrices = {}\n",
    "    for filename in os.listdir(directory):\n",
    "        if filename.endswith(\".csv\"):\n",
    "            tissue = os.path.splitext(filename)[0].lower()\n",
    "            matrix = pd.read_csv(os.path.join(directory, filename), header=0).values\n",
    "            correlation_matrices[tissue] = matrix\n",
    "    return correlation_matrices"
   ]
  },
  {
   "cell_type": "code",
   "execution_count": null,
   "id": "7bf2c41b",
   "metadata": {},
   "outputs": [],
   "source": [
    "def compute_ranks(correlation_matrices):\n",
    "    sample_wise_corrs = {}\n",
    "    for tissue_name, matrix in correlation_matrices.items():\n",
    "        n_cell_types, n_samples = matrix.shape\n",
    "        for sample_idx in range(n_samples):\n",
    "            for cell_idx in range(n_cell_types):\n",
    "                value = matrix[cell_idx, sample_idx]\n",
    "                if not np.isnan(value):\n",
    "                    sample_wise_corrs.setdefault(sample_idx, []).append((f'{tissue_name}_cell_{cell_idx}', value))\n",
    "\n",
    "    rank_data = []\n",
    "    for sample_idx, items in sample_wise_corrs.items():\n",
    "        labels, values = zip(*items)\n",
    "        values = np.array(values)\n",
    "        ranks = rankdata(values, method='ordinal')\n",
    "        # ranks = len(ranks) + 1 - ranks  # flip: most negative = rank 1\n",
    "        for label, rank in zip(labels, ranks):\n",
    "            tissue = label.split('_cell_')[0]\n",
    "            rank_data.append({'tissue': tissue, 'sample': f'sample_{sample_idx}', 'rank': rank})\n",
    "\n",
    "    df_ranks = pd.DataFrame(rank_data)\n",
    "    return df_ranks\n"
   ]
  },
  {
   "cell_type": "code",
   "execution_count": 66,
   "id": "c9540169",
   "metadata": {},
   "outputs": [],
   "source": [
    "control_matrices = load_correlation_matrices(dir_control)\n",
    "coad_matrices = load_correlation_matrices(dir_coad)\n",
    "\n",
    "control_ranks = compute_ranks(control_matrices)\n",
    "coad_ranks = compute_ranks(coad_matrices)"
   ]
  },
  {
   "cell_type": "code",
   "execution_count": 67,
   "id": "cc1191eb",
   "metadata": {},
   "outputs": [],
   "source": [
    "control_ranks['group'] = 'control'\n",
    "coad_ranks['group'] = 'coad'"
   ]
  },
  {
   "cell_type": "code",
   "execution_count": 68,
   "id": "9d8c7361",
   "metadata": {},
   "outputs": [],
   "source": [
    "df_all_ranks = pd.concat([control_ranks, coad_ranks], ignore_index=True)"
   ]
  },
  {
   "cell_type": "code",
   "execution_count": 69,
   "id": "6ff0ad66",
   "metadata": {},
   "outputs": [],
   "source": [
    "results = {}\n",
    "for tissue in ['small_intestine', 'large_intestine']:\n",
    "    coad_vals = df_all_ranks[(df_all_ranks['group'] == 'coad') & (df_all_ranks['tissue'] == tissue)]['rank']\n",
    "    control_vals = df_all_ranks[(df_all_ranks['group'] == 'control') & (df_all_ranks['tissue'] == tissue)]['rank']\n",
    "\n",
    "    stat, p_value = mannwhitneyu(coad_vals, control_vals, alternative='less')\n",
    "    results[tissue] = {\n",
    "        'U_statistic': stat,\n",
    "        'p_value': p_value,\n",
    "        'significant': p_value < 0.05\n",
    "    }"
   ]
  },
  {
   "cell_type": "code",
   "execution_count": 70,
   "id": "bede64db",
   "metadata": {},
   "outputs": [
    {
     "name": "stdout",
     "output_type": "stream",
     "text": [
      "                 U_statistic   p_value  significant\n",
      "small_intestine    1212131.5  0.643584        False\n",
      "large_intestine     839743.0  0.887612        False\n"
     ]
    }
   ],
   "source": [
    "results_df = pd.DataFrame.from_dict(results, orient='index')\n",
    "print(results_df)"
   ]
  }
 ],
 "metadata": {
  "kernelspec": {
   "display_name": "thesis_std",
   "language": "python",
   "name": "python3"
  },
  "language_info": {
   "codemirror_mode": {
    "name": "ipython",
    "version": 3
   },
   "file_extension": ".py",
   "mimetype": "text/x-python",
   "name": "python",
   "nbconvert_exporter": "python",
   "pygments_lexer": "ipython3",
   "version": "3.13.2"
  }
 },
 "nbformat": 4,
 "nbformat_minor": 5
}
