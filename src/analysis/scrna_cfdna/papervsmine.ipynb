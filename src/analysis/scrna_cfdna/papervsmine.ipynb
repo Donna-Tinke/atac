{
 "cells": [
  {
   "cell_type": "code",
   "execution_count": 9,
   "id": "522b19e6",
   "metadata": {},
   "outputs": [],
   "source": [
    "import pandas as pd\n",
    "from scipy.stats import mannwhitneyu\n",
    "import numpy as np\n",
    "import glob\n",
    "import os"
   ]
  },
  {
   "cell_type": "code",
   "execution_count": 15,
   "id": "affa452a",
   "metadata": {},
   "outputs": [],
   "source": [
    "my_df = pd.read_csv(\"/mnt/c/Users/donna/Downloads/Thesis/rankjes/abscor_ranks_per_feature/cov_spread_rank_results.csv\")"
   ]
  },
  {
   "cell_type": "code",
   "execution_count": 13,
   "id": "8e5d759e",
   "metadata": {},
   "outputs": [],
   "source": [
    "csv_dir = '/mnt/c/Users/donna/Downloads/Thesis/rankjes/paper_ranks'  # Replace with actual path\n",
    "csv_files = glob.glob(os.path.join(csv_dir, \"*.csv\"))\n",
    "df_list = [pd.read_csv(file) for file in csv_files]\n",
    "combined_df = pd.concat(df_list, ignore_index=True)\n",
    "combined_df.to_csv(\"/mnt/c/Users/donna/Downloads/Thesis/rankjes/paper_ranks/combined_ranks.csv\")"
   ]
  },
  {
   "cell_type": "code",
   "execution_count": 16,
   "id": "a250447b",
   "metadata": {},
   "outputs": [],
   "source": [
    "paper_df = pd.read_csv(\"/mnt/c/Users/donna/Downloads/Thesis/rankjes/paper_ranks/combined_ranks.csv\")"
   ]
  },
  {
   "cell_type": "code",
   "execution_count": 21,
   "id": "cac3b5a5",
   "metadata": {},
   "outputs": [],
   "source": [
    "paper_df[\"tissue\"] = paper_df[\"tissue\"].str.lower()\n"
   ]
  },
  {
   "cell_type": "code",
   "execution_count": 24,
   "id": "9a6e9feb",
   "metadata": {},
   "outputs": [],
   "source": [
    "results = []\n",
    "for tissue in sorted(set(my_df[\"tissue\"]).intersection(paper_df[\"tissue\"])):\n",
    "    m_ranks = my_df[my_df[\"tissue\"] == tissue][\"rank\"].values\n",
    "    p_ranks = paper_df[paper_df[\"tissue\"] == tissue][\"rank\"].values\n",
    "\n",
    "    if len(m_ranks) >= 3 and len(p_ranks) >= 3:  # ensure enough data points\n",
    "        stat, p = mannwhitneyu(m_ranks, p_ranks, alternative=\"two-sided\")\n",
    "        results.append({\n",
    "            \"tissue\": tissue,\n",
    "            \"my_median_rank\": np.median(m_ranks),\n",
    "            \"paper_median_rank\": np.median(p_ranks),\n",
    "            \"my_mean_ranks\": np.mean(m_ranks),\n",
    "            \"paper_mean_ranks\": np.mean(p_ranks),\n",
    "            \"p_value\": p\n",
    "        })"
   ]
  },
  {
   "cell_type": "code",
   "execution_count": 25,
   "id": "05008860",
   "metadata": {},
   "outputs": [
    {
     "name": "stdout",
     "output_type": "stream",
     "text": [
      "             tissue  my_median_rank  paper_median_rank  my_mean_ranks  \\\n",
      "3               eye           168.0              253.0     164.889881   \n",
      "10       lymph_node           152.0               81.0     149.647794   \n",
      "18           spleen           148.0               92.0     144.892500   \n",
      "7   large_intestine           124.0              199.0     137.401136   \n",
      "17  small_intestine           145.0              211.0     151.135577   \n",
      "\n",
      "    paper_mean_ranks        p_value  \n",
      "3         223.042053  4.615888e-122  \n",
      "10        104.179272   4.224585e-56  \n",
      "18        101.273304   1.379876e-40  \n",
      "7         185.166076   8.598645e-39  \n",
      "17        192.582751   5.663814e-36  \n"
     ]
    }
   ],
   "source": [
    "results_df = pd.DataFrame(results)\n",
    "results_df.sort_values(\"p_value\", inplace=True)\n",
    "print(results_df.head())"
   ]
  },
  {
   "cell_type": "code",
   "execution_count": 27,
   "id": "9a48f879",
   "metadata": {},
   "outputs": [],
   "source": [
    "results_df.to_csv(\"/mnt/c/Users/donna/Downloads/Thesis/rankjes/minevspaper_whitneyU.csv\")"
   ]
  },
  {
   "cell_type": "code",
   "execution_count": null,
   "id": "2ab5c2c6",
   "metadata": {},
   "outputs": [],
   "source": []
  }
 ],
 "metadata": {
  "kernelspec": {
   "display_name": "thesis_std",
   "language": "python",
   "name": "python3"
  },
  "language_info": {
   "codemirror_mode": {
    "name": "ipython",
    "version": 3
   },
   "file_extension": ".py",
   "mimetype": "text/x-python",
   "name": "python",
   "nbconvert_exporter": "python",
   "pygments_lexer": "ipython3",
   "version": "3.13.2"
  }
 },
 "nbformat": 4,
 "nbformat_minor": 5
}
