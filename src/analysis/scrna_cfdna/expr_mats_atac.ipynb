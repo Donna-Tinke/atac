{
 "cells": [
  {
   "cell_type": "code",
   "execution_count": 1,
   "id": "ba416770",
   "metadata": {},
   "outputs": [],
   "source": [
    "import numpy as np\n",
    "import pandas as pd\n",
    "import glob\n",
    "import os\n",
    "from scipy.stats import pearsonr\n",
    "import anndata as ad\n",
    "from scipy.sparse import csr_matrix\n",
    "from scipy.stats import zscore\n",
    "import time\n",
    "from scipy.sparse import issparse\n"
   ]
  },
  {
   "cell_type": "code",
   "execution_count": 2,
   "id": "64fa6e4f",
   "metadata": {},
   "outputs": [],
   "source": [
    "atac_genes = pd.read_csv('/mnt/c/Users/donna/Downloads/Thesis/atac_expres/atac_genes.csv')\n",
    "atac_genes = atac_genes['Gene'].astype(str)"
   ]
  },
  {
   "cell_type": "code",
   "execution_count": null,
   "id": "b412a440",
   "metadata": {},
   "outputs": [
    {
     "ename": "",
     "evalue": "",
     "output_type": "error",
     "traceback": [
      "\u001b[1;31mThe Kernel crashed while executing code in the current cell or a previous cell. \n",
      "\u001b[1;31mPlease review the code in the cell(s) to identify a possible cause of the failure. \n",
      "\u001b[1;31mClick <a href='https://aka.ms/vscodeJupyterKernelCrash'>here</a> for more info. \n",
      "\u001b[1;31mView Jupyter <a href='command:jupyter.viewOutput'>log</a> for further details."
     ]
    }
   ],
   "source": [
    "adata = ad.read_h5ad(\"/mnt/c/Users/donna/Downloads/Thesis/data/scrna/ovary.h5ad\")"
   ]
  },
  {
   "cell_type": "code",
   "execution_count": null,
   "id": "ca2da60c",
   "metadata": {},
   "outputs": [],
   "source": []
  },
  {
   "cell_type": "code",
   "execution_count": null,
   "id": "e021188c",
   "metadata": {},
   "outputs": [],
   "source": [
    "#Filteren op matchende genes\n",
    "ann_genes = adata.var['feature_name'].astype(str)\n",
    "matching_genes_mask = ann_genes.isin(atac_genes)\n",
    "filtered_adata = adata[:, matching_genes_mask]\n",
    "suba = filtered_adata[filtered_adata.obs[\"assay\"] == \"10x 3' v3\", :]\n",
    "\n",
    "\n",
    "\n",
    "rna_mat = suba.X\n",
    "print(rna_mat.shape)\n",
    "if issparse(rna_mat):\n",
    "    rna_mat = rna_mat.tocsr()\n",
    "\n",
    "# Calculate mean per cell type\n",
    "cell_types = suba.obs[\"cell_type\"].values\n",
    "unique_cell_types, inverse_idx = np.unique(cell_types, return_inverse=True)\n",
    "mean_rna_mat = np.zeros((len(unique_cell_types), rna_mat.shape[1]), dtype=np.float32)\n",
    "\n",
    "for i, cell_type_idx in enumerate(range(len(unique_cell_types))):\n",
    "    mask = np.where(inverse_idx == cell_type_idx)[0]\n",
    "    submat = rna_mat[mask]\n",
    "    mean = submat.mean(axis=0)\n",
    "    mean_rna_mat[i, :] = np.asarray(mean).ravel()\n",
    "\n",
    "#Convert to pd dataframe\n",
    "mean_df = pd.DataFrame(mean_rna_mat, index=unique_cell_types)\n",
    "\n",
    "# Expression matrixje saven\n",
    "mean_df.to_csv(\"/mnt/c/Users/donna/Downloads/Thesis/data/scrna/expr_mats_atac/atac_match/ovary.csv\")\n"
   ]
  },
  {
   "cell_type": "code",
   "execution_count": null,
   "id": "c0d92325",
   "metadata": {},
   "outputs": [],
   "source": []
  }
 ],
 "metadata": {
  "kernelspec": {
   "display_name": "thesis_std",
   "language": "python",
   "name": "python3"
  },
  "language_info": {
   "codemirror_mode": {
    "name": "ipython",
    "version": 3
   },
   "file_extension": ".py",
   "mimetype": "text/x-python",
   "name": "python",
   "nbconvert_exporter": "python",
   "pygments_lexer": "ipython3",
   "version": "3.13.2"
  }
 },
 "nbformat": 4,
 "nbformat_minor": 5
}
