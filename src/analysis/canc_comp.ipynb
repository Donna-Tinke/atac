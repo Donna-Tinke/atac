{
 "cells": [
  {
   "cell_type": "code",
   "execution_count": 2,
   "id": "f5a14f8d",
   "metadata": {},
   "outputs": [],
   "source": [
    "import pandas as pd\n",
    "from scipy.stats import mannwhitneyu\n",
    "import numpy as np\n",
    "from scipy.stats import wilcoxon"
   ]
  },
  {
   "cell_type": "code",
   "execution_count": 10,
   "id": "4c7c83ed",
   "metadata": {},
   "outputs": [],
   "source": [
    "healthy_df = pd.read_csv(\"/mnt/c/Users/donna/Downloads/Thesis/tacje/celltype_level/healthy_ranks.csv\")\n",
    "cancer_df = pd.read_csv('/mnt/c/Users/donna/Downloads/Thesis/tacje/celltype_level/coad_ranks.csv')"
   ]
  },
  {
   "cell_type": "code",
   "execution_count": 11,
   "id": "e521b61b",
   "metadata": {},
   "outputs": [],
   "source": [
    "# Group by tissue\n",
    "results = []\n",
    "for tissue in sorted(set(healthy_df[\"tissue\"]).intersection(cancer_df[\"tissue\"])):\n",
    "    h_ranks = healthy_df[healthy_df[\"tissue\"] == tissue][\"rank\"].values\n",
    "    c_ranks = cancer_df[cancer_df[\"tissue\"] == tissue][\"rank\"].values\n",
    "\n",
    "    if len(h_ranks) >= 3 and len(c_ranks) >= 3:  # ensure enough data points\n",
    "        stat, p = mannwhitneyu(h_ranks, c_ranks, alternative=\"two-sided\")\n",
    "        results.append({\n",
    "            \"tissue\": tissue,\n",
    "            \"healthy_median_rank\": np.median(h_ranks),\n",
    "            \"cancer_median_rank\": np.median(c_ranks),\n",
    "            \"p_value\": p\n",
    "        })"
   ]
  },
  {
   "cell_type": "code",
   "execution_count": 12,
   "id": "79310f36",
   "metadata": {},
   "outputs": [
    {
     "data": {
      "text/plain": [
       "'uterus'"
      ]
     },
     "execution_count": 12,
     "metadata": {},
     "output_type": "execute_result"
    }
   ],
   "source": [
    "h_ranks\n",
    "tissue"
   ]
  },
  {
   "cell_type": "code",
   "execution_count": 13,
   "id": "11ee43cd",
   "metadata": {},
   "outputs": [
    {
     "name": "stdout",
     "output_type": "stream",
     "text": [
      "   tissue  healthy_median_rank  cancer_median_rank   p_value\n",
      "8  uterus                109.0               112.0  0.006658\n",
      "1   liver                 32.0                35.0  0.046721\n",
      "4   ovary                 95.0                94.0  0.086769\n",
      "3  muscle                 67.0                65.0  0.195741\n",
      "0   heart                 54.0                54.0  0.349748\n"
     ]
    }
   ],
   "source": [
    "results_df = pd.DataFrame(results)\n",
    "results_df.sort_values(\"p_value\", inplace=True)\n",
    "print(results_df.head())\n"
   ]
  },
  {
   "cell_type": "code",
   "execution_count": 14,
   "id": "bfb60adb",
   "metadata": {},
   "outputs": [],
   "source": [
    "results_df.to_csv(\"/mnt/c/Users/donna/Downloads/Thesis/tacje/mann_whit_coad.csv\")"
   ]
  },
  {
   "cell_type": "code",
   "execution_count": null,
   "id": "6c702b7e",
   "metadata": {},
   "outputs": [],
   "source": [
    "#------- Voor atac scrna comparison"
   ]
  },
  {
   "cell_type": "code",
   "execution_count": 9,
   "id": "220e23f4",
   "metadata": {},
   "outputs": [],
   "source": [
    "atac_df = pd.read_csv(\"/mnt/c/Users/donna/Downloads/Thesis/tacje/celltype_level/healthy_ranks_zonder_ovary.csv\")\n",
    "scrna_df = pd.read_csv('/mnt/c/Users/donna/Downloads/Thesis/rankjes/cov_spread_ranks_atacmatch.csv')"
   ]
  },
  {
   "cell_type": "code",
   "execution_count": 10,
   "id": "073066c2",
   "metadata": {},
   "outputs": [],
   "source": [
    "results = []\n",
    "for tissue in sorted(set(atac_df[\"tissue\"]).intersection(scrna_df[\"tissue\"])):\n",
    "    a_ranks = atac_df[atac_df[\"tissue\"] == tissue][\"rank\"].values.astype(float)\n",
    "    s_ranks = scrna_df[scrna_df[\"tissue\"] == tissue][\"rank\"].values.astype(float)\n",
    "\n",
    "    if len(a_ranks) >= 3 and len(s_ranks) >= 3:  # ensure enough data points\n",
    "        # Normalize to [0, 1] scale\n",
    "        a_ranks /= a_ranks.max()\n",
    "        s_ranks /= s_ranks.max()\n",
    "\n",
    "        stat, p = mannwhitneyu(a_ranks, s_ranks, alternative=\"two-sided\")\n",
    "        results.append({\n",
    "            \"tissue\": tissue,\n",
    "            \"atac_median_rank\": np.median(a_ranks),\n",
    "            \"scrna_median_rank\": np.median(s_ranks),\n",
    "            \"p_value\": p\n",
    "        })"
   ]
  },
  {
   "cell_type": "code",
   "execution_count": 14,
   "id": "2c9afb99",
   "metadata": {},
   "outputs": [
    {
     "name": "stdout",
     "output_type": "stream",
     "text": [
      "            tissue  atac_median_rank  scrna_median_rank        p_value\n",
      "8           uterus          0.856164           0.562500  4.090558e-128\n",
      "2          mammary          0.671233           0.508929   4.132532e-61\n",
      "4         pancreas          0.426056           0.660714   1.986388e-49\n",
      "7          stomach          0.597902           0.437500   2.036945e-15\n",
      "0            heart          0.532847           0.714286   2.654815e-14\n",
      "6  small_intestine          0.328671           0.410714   1.332312e-13\n",
      "5             skin          0.445205           0.375000   5.437099e-05\n",
      "3           muscle          0.595890           0.598214   8.414007e-03\n",
      "1            liver          0.308219           0.383929   9.172718e-02\n"
     ]
    }
   ],
   "source": [
    "results_df = pd.DataFrame(results)\n",
    "results_df.sort_values(\"p_value\", inplace=True)\n",
    "print(results_df)"
   ]
  },
  {
   "cell_type": "code",
   "execution_count": 15,
   "id": "0565020c",
   "metadata": {},
   "outputs": [],
   "source": [
    "results_df.to_csv(\"/mnt/c/Users/donna/Downloads/Thesis/tacje/mann_whit_atac_scrna.csv\")"
   ]
  },
  {
   "cell_type": "code",
   "execution_count": null,
   "id": "fbe38dab",
   "metadata": {},
   "outputs": [],
   "source": []
  }
 ],
 "metadata": {
  "kernelspec": {
   "display_name": "thesis_std",
   "language": "python",
   "name": "python3"
  },
  "language_info": {
   "codemirror_mode": {
    "name": "ipython",
    "version": 3
   },
   "file_extension": ".py",
   "mimetype": "text/x-python",
   "name": "python",
   "nbconvert_exporter": "python",
   "pygments_lexer": "ipython3",
   "version": "3.13.2"
  }
 },
 "nbformat": 4,
 "nbformat_minor": 5
}
