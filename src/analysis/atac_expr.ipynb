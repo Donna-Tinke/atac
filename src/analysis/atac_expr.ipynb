{
 "cells": [
  {
   "cell_type": "code",
   "execution_count": 2,
   "id": "c6f94300",
   "metadata": {},
   "outputs": [],
   "source": [
    "import numpy as np\n",
    "import pandas as pd\n",
    "import os\n",
    "import glob\n",
    "from scipy.stats import pearsonr\n",
    "import anndata as ad\n",
    "from scipy.sparse import csr_matrix\n",
    "from scipy.stats import zscore"
   ]
  },
  {
   "cell_type": "code",
   "execution_count": 3,
   "id": "dafadcd8",
   "metadata": {},
   "outputs": [],
   "source": [
    "atac_dir = '/mnt/c/Users/donna/Downloads/Thesis/data/test/heattest/atac'"
   ]
  },
  {
   "cell_type": "code",
   "execution_count": 4,
   "id": "fa6747fb",
   "metadata": {},
   "outputs": [],
   "source": [
    "scrna_dir = '/mnt/c/Users/donna/Downloads/Thesis/data/test/heattest/scrna'"
   ]
  },
  {
   "cell_type": "code",
   "execution_count": 5,
   "id": "8742f080",
   "metadata": {},
   "outputs": [],
   "source": [
    "def load_csv_matrices(folder_path):\n",
    "    matrices = {}\n",
    "    for file in os.listdir(folder_path):\n",
    "        if file.endswith('.csv'):\n",
    "            name = os.path.splitext(file)[0]\n",
    "            df = pd.read_csv(os.path.join(folder_path, file), index_col=0)\n",
    "            matrices[name] = df\n",
    "            print(name)\n",
    "    return matrices"
   ]
  },
  {
   "cell_type": "code",
   "execution_count": 6,
   "id": "df70b637",
   "metadata": {},
   "outputs": [
    {
     "name": "stdout",
     "output_type": "stream",
     "text": [
      "uterus\n"
     ]
    }
   ],
   "source": [
    "atac_matrices = load_csv_matrices(atac_dir)"
   ]
  },
  {
   "cell_type": "code",
   "execution_count": null,
   "id": "c6db34d0",
   "metadata": {},
   "outputs": [
    {
     "name": "stdout",
     "output_type": "stream",
     "text": [
      "corr[:A, A:].shape = (14, 9)\n",
      "✅ All correlation matrices saved.\n"
     ]
    }
   ],
   "source": [
    "for scrna_file in os.listdir(scrna_dir):\n",
    "    print(f\"Now working with scRNA {scrna_file}\")\n",
    "    if not scrna_file.endswith('.csv'):\n",
    "        continue\n",
    "\n",
    "    scrna_name = os.path.splitext(scrna_file)[0]\n",
    "    scrna_path = os.path.join(scrna_dir, scrna_file)\n",
    "    scrna_df = pd.read_csv(scrna_path, index_col=0)\n",
    "    scrna_df = scrna_df.dropna(axis=0, how='any')\n",
    "\n",
    "    for atac_name, atac_df in atac_matrices.items():\n",
    "        print(f\"Now working with atac {atac_name}\")\n",
    "\n",
    "        combined = np.concatenate([atac_df, scrna_df], axis=0)  # shape (24, 18738)\n",
    "        corr = np.corrcoef(combined)  \n",
    "\n",
    "\n",
    "\n",
    "        corr_matrix = pd.DataFrame(\n",
    "            corr[:atac_df.shape[0], atac_df.shape[0]:],         # (14, 10)\n",
    "            index=atac_df.index,\n",
    "            columns=scrna_df.index\n",
    "        )\n",
    "\n",
    "        # Save to file\n",
    "        out_path = os.path.join('/mnt/c/Users/donna/Downloads/Thesis/data/test/heattest', f\"{atac_name}_{scrna_name}.csv\")\n",
    "        corr_matrix.to_csv(out_path)\n",
    "\n",
    "print(\" All correlation matrices saved.\")"
   ]
  },
  {
   "cell_type": "code",
   "execution_count": 9,
   "id": "258300fc",
   "metadata": {},
   "outputs": [
    {
     "name": "stdout",
     "output_type": "stream",
     "text": [
      "Now working with scRNA tongue.csv\n",
      "Now working with ATAC uterus\n",
      "All correlation matrices saved.\n"
     ]
    }
   ],
   "source": [
    "for scrna_file in os.listdir(scrna_dir):\n",
    "    print(f\"Now working with scRNA {scrna_file}\")\n",
    "    if not scrna_file.endswith('.csv'):\n",
    "        continue\n",
    "\n",
    "    scrna_name = os.path.splitext(scrna_file)[0]\n",
    "    scrna_path = os.path.join(scrna_dir, scrna_file)\n",
    "    scrna_df = pd.read_csv(scrna_path, index_col=0)\n",
    "    scrna_df = scrna_df.dropna(axis=0, how='any')\n",
    "\n",
    "    for atac_name, atac_df in atac_matrices.items():\n",
    "        print(f\"Now working with ATAC {atac_name}\")\n",
    "\n",
    "        # Find matching cell types (index labels)\n",
    "        common_cell_types = atac_df.index.intersection(scrna_df.index)\n",
    "        if len(common_cell_types) == 0:\n",
    "            print(f\"No common cell types between {atac_name} and {scrna_name}. Skipping.\")\n",
    "            continue\n",
    "\n",
    "        # Subset both matrices\n",
    "        atac_sub = atac_df.loc[common_cell_types]\n",
    "        scrna_sub = scrna_df.loc[common_cell_types]\n",
    "\n",
    "        # Combine and correlate\n",
    "        combined = np.concatenate([atac_sub, scrna_sub], axis=0)\n",
    "        corr = np.corrcoef(combined)\n",
    "\n",
    "        # Construct correlation matrix (ATAC rows × scRNA columns)\n",
    "        corr_matrix = pd.DataFrame(\n",
    "            corr[:atac_sub.shape[0], atac_sub.shape[0]:],\n",
    "            index=atac_sub.index,\n",
    "            columns=scrna_sub.index\n",
    "        )\n",
    "\n",
    "        # Save to file\n",
    "        out_path = os.path.join(\n",
    "            '/mnt/c/Users/donna/Downloads/Thesis/data/test/heattest',\n",
    "            f\"{atac_name}_{scrna_name}_common.csv\"\n",
    "        )\n",
    "        corr_matrix.to_csv(out_path)\n",
    "\n",
    "print(\"All correlation matrices saved.\")"
   ]
  },
  {
   "cell_type": "code",
   "execution_count": null,
   "id": "cd7926f3",
   "metadata": {},
   "outputs": [],
   "source": []
  }
 ],
 "metadata": {
  "kernelspec": {
   "display_name": "thesis_std",
   "language": "python",
   "name": "python3"
  },
  "language_info": {
   "codemirror_mode": {
    "name": "ipython",
    "version": 3
   },
   "file_extension": ".py",
   "mimetype": "text/x-python",
   "name": "python",
   "nbconvert_exporter": "python",
   "pygments_lexer": "ipython3",
   "version": "3.13.2"
  }
 },
 "nbformat": 4,
 "nbformat_minor": 5
}
