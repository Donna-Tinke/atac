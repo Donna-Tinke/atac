{
 "cells": [
  {
   "cell_type": "code",
   "execution_count": null,
   "metadata": {},
   "outputs": [],
   "source": [
    "##extracting the fslr column from just 1 sample\n",
    "single_cfDNA_sample = \"brca_correlaties/09-18_12-10_all_10k_biomart_final/EE87885_fragment_features.csv\"\n",
    "single_cfDNA_data = pd.read_csv(single_cfDNA_sample)\n",
    "single_fslr_column = single_cfDNA_data.iloc[:, 1]\n",
    "print(single_fslr_column)"
   ]
  },
  {
   "cell_type": "code",
   "execution_count": null,
   "metadata": {},
   "outputs": [],
   "source": [
    "##Only extracting a single sample from the ATAC-seq TCGA matrix\n",
    "##This code only extracts 1 coad/brca sample, with all rows\n",
    "# Filter the sample IDs to include only those that match the first three parts of COAD sample IDs\n",
    "coad_sample_id = None\n",
    "for sample_id in all_sample_ids:\n",
    "    if get_first_three_parts(sample_id) in coad_samples:\n",
    "        coad_sample_id = sample_id\n",
    "        break  # Stop after finding the first COAD sample\n",
    "\n",
    "# Load only the necessary column (the selected COAD sample) \n",
    "if coad_sample_id:\n",
    "    atac_coad_data = pd.read_csv(file_path, sep='\\t', usecols=[coad_sample_id], dtype='object')\n",
    "    \n",
    "    # Save the filtered matrix to a CSV file\n",
    "    atac_coad_data.to_csv('brca_correlaties/atac_single_coad_sample.csv', index=False)\n",
    "    \n",
    "\n",
    "brca_sample_id = None\n",
    "for sample_id in all_sample_ids:\n",
    "    if get_first_three_parts(sample_id) in brca_samples:\n",
    "        brca_sample_id = sample_id\n",
    "        break  # Stop after finding the first BRCA sample\n",
    "\n",
    "# Load only the necessary column (the selected BRCA sample) \n",
    "if brca_sample_id:\n",
    "    atac_brca_data = pd.read_csv(file_path, sep='\\t', usecols=[brca_sample_id], dtype='object')\n",
    "    \n",
    "    # Save the filtered matrix to a CSV file\n",
    "    atac_brca_data.to_csv('brca_correlaties/atac_single_brca_sample.csv', index=False)"
   ]
  }
 ],
 "metadata": {
  "language_info": {
   "name": "python"
  }
 },
 "nbformat": 4,
 "nbformat_minor": 2
}
