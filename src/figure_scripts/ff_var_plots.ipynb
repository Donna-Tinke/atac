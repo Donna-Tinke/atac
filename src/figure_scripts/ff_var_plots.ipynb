{
 "cells": [
  {
   "cell_type": "code",
   "execution_count": 1,
   "metadata": {},
   "outputs": [],
   "source": [
    "import pandas as pd\n",
    "import seaborn as sns\n",
    "import matplotlib.pyplot as plt\n",
    "import numpy as np\n",
    "import os"
   ]
  },
  {
   "cell_type": "code",
   "execution_count": 2,
   "metadata": {},
   "outputs": [],
   "source": [
    "coad_ff_path = '/mnt/c/Users/donna/Downloads/Thesis/data/ilovetesting/04-15_10-29_all_coad'\n",
    "brca_ff_path = '/mnt/c/Users/donna/Downloads/Thesis/data/ilovetesting/04-15_10-32_all_brca'\n",
    "peak_names = pd.read_csv('/mnt/c/Users/donna/Downloads/Thesis/brca_correlaties/TCGA_data/filtered_peak_names.csv', header=None).values"
   ]
  },
  {
   "cell_type": "code",
   "execution_count": 3,
   "metadata": {},
   "outputs": [],
   "source": [
    "ff_feature = 'cov_x'"
   ]
  },
  {
   "cell_type": "code",
   "execution_count": 5,
   "metadata": {},
   "outputs": [],
   "source": [
    "coad_file_names = [f for f in os.listdir(coad_ff_path) if f.endswith(\".csv\")]\n",
    "brca_file_names = [f for f in os.listdir(brca_ff_path) if f.endswith(\".csv\")]\n",
    "\n",
    "ff_list = []  # ← moved outside the loop\n",
    "\n",
    "for ff_file in coad_file_names:\n",
    "    cf_file_path = os.path.join(coad_ff_path, ff_file)\n",
    "    new_column = pd.read_csv(cf_file_path, header=0, dtype='object', usecols=[ff_feature])\n",
    "    new_column = new_column.astype(float).values.flatten()\n",
    "    ff_list.append(new_column)\n",
    "\n",
    "for ff_file in brca_file_names:\n",
    "    cf_file_path = os.path.join(brca_ff_path, ff_file)\n",
    "    new_column = pd.read_csv(cf_file_path, header=0, dtype='object', usecols=[ff_feature])\n",
    "    new_column = new_column.astype(float).values.flatten()\n",
    "    ff_list.append(new_column)    \n",
    "\n",
    "# Now stack all at once\n",
    "ff_matrix = None\n",
    "ff_matrix = np.stack(ff_list)"
   ]
  },
  {
   "cell_type": "code",
   "execution_count": 6,
   "metadata": {},
   "outputs": [],
   "source": [
    "peak_var = np.empty((len(peak_names), 2), dtype=object)\n",
    "peak_var[:, 0] = peak_names.flatten()"
   ]
  },
  {
   "cell_type": "code",
   "execution_count": 7,
   "metadata": {},
   "outputs": [],
   "source": [
    "for i in range(len(peak_var)):\n",
    "    peak_var[i, 1] = np.var(ff_matrix[:, i])"
   ]
  },
  {
   "cell_type": "code",
   "execution_count": 35,
   "metadata": {},
   "outputs": [
    {
     "data": {
      "image/png": "[encoded data removed]",
      "text/plain": [
       "<Figure size 1200x500 with 1 Axes>"
      ]
     },
     "metadata": {},
     "output_type": "display_data"
    }
   ],
   "source": [
    "variances = peak_var[:, 1].astype(float)\n",
    "plt.figure(figsize=(12, 5))\n",
    "plt.plot(variances, marker='.', linestyle='None', alpha=0.7)\n",
    "plt.xlabel(\"Peak Index\")\n",
    "plt.ylabel(\"Variance Across Files\")\n",
    "plt.title(\"Variance of Fragment Feature Across Files per Peak\")\n",
    "plt.grid(True)"
   ]
  },
  {
   "cell_type": "code",
   "execution_count": null,
   "metadata": {},
   "outputs": [],
   "source": [
    "ff_file = pd.read_csv('/mnt/c/Users/donna/Downloads/Thesis/TSSClassification/results/03-26_21-16_3_coad/coad_full_bams--EE87867.hg38.frag.tsv_corrected.bam_fragment_features.csv')\n",
    "ff_list = ff_file.columns.tolist()"
   ]
  },
  {
   "cell_type": "code",
   "execution_count": null,
   "metadata": {},
   "outputs": [],
   "source": [
    "def frag_var(ff_path, peak_names, ff_list):\n",
    "    results = {}\n",
    "    file_names = [f for f in os.listdir(ff_path) if f.endswith(\".csv\")]\n",
    "\n",
    "    # Loop over fragment features once\n",
    "    for ff in ff_list:\n",
    "        # Read in data from all files for this feature\n",
    "        ff_data = []\n",
    "        for ff_file in file_names:\n",
    "            cf_file_path = os.path.join(ff_path, ff_file)\n",
    "            new_column = pd.read_csv(cf_file_path, usecols=[ff])\n",
    "            ff_data.append(new_column.values.flatten())\n",
    "\n",
    "        # Stack into matrix: shape = (num_files, num_peaks)\n",
    "        ff_matrix = np.stack(ff_data, axis=0)\n",
    "\n",
    "        # Compute variance per peak (across files)\n",
    "        variances = np.var(ff_matrix, axis=0)  # shape: (num_peaks,)\n",
    "\n",
    "        # Compute mean variance across peaks\n",
    "        mean_var = np.mean(variances)\n",
    "\n",
    "        results[ff] = mean_var\n",
    "\n",
    "    # Convert to DataFrame\n",
    "    result_df = pd.DataFrame(results.items(), columns=[\"Fragment_Feature\", \"Mean_Variance\"])\n",
    "    return result_df\n"
   ]
  },
  {
   "cell_type": "code",
   "execution_count": 26,
   "metadata": {},
   "outputs": [],
   "source": [
    "mean_vars = frag_var(ff_path, peak_names, ff_list)"
   ]
  },
  {
   "cell_type": "code",
   "execution_count": 27,
   "metadata": {},
   "outputs": [
    {
     "name": "stdout",
     "output_type": "stream",
     "text": [
      "                Fragment_Feature  Mean_Variance\n",
      "0                     Unnamed: 0   0.000000e+00\n",
      "1                           fslr   1.144346e-01\n",
      "2                          short   1.252687e+01\n",
      "3                           long   1.676003e+01\n",
      "4                            all   3.203172e+01\n",
      "5                            mad   2.209482e+00\n",
      "6                             cv   1.995233e-04\n",
      "7                           mapq   2.213098e-01\n",
      "8                       mapq_std   1.208845e+00\n",
      "9                     cov_spread   2.511454e-05\n",
      "10                         cov_x   6.002837e+09\n",
      "11                cov_spread_tss   2.505052e-05\n",
      "12                     cov_x_tss   6.804520e+09\n",
      "13         mean_central_coverage   3.031597e-05\n",
      "14          mean_window_coverage   1.044670e-06\n",
      "15         mean_outside_coverage   6.367380e-08\n",
      "16                  griffin_mean   4.568291e-06\n",
      "17               max_wave_height   7.560016e-05\n",
      "18  savgol_mean_central_coverage   3.164487e-05\n",
      "19   savgol_mean_window_coverage   1.044289e-06\n",
      "20  savgol_mean_outside_coverage   6.368769e-08\n",
      "21           savgol_griffin_mean   4.588733e-06\n",
      "22        savgol_max_wave_height   6.276993e-05\n",
      "23                          rcov   6.526793e-05\n"
     ]
    }
   ],
   "source": [
    "print(mean_vars)"
   ]
  },
  {
   "cell_type": "code",
   "execution_count": 8,
   "metadata": {},
   "outputs": [],
   "source": [
    "peak_var_df = pd.DataFrame(peak_var)\n",
    "top_peaks = peak_var_df.sort_values(by=peak_var_df.columns[1], ascending=False).head(10000)\n",
    "high_var_peaks = top_peaks.values[:,0]"
   ]
  },
  {
   "cell_type": "code",
   "execution_count": 10,
   "metadata": {},
   "outputs": [
    {
     "name": "stdout",
     "output_type": "stream",
     "text": [
      "10000\n"
     ]
    }
   ],
   "source": [
    "print(len(high_var_peaks))"
   ]
  },
  {
   "cell_type": "code",
   "execution_count": 11,
   "metadata": {},
   "outputs": [],
   "source": [
    "np.savetxt('/mnt/c/Users/donna/Downloads/Thesis/brca_correlaties/high_var_covx_peaks.csv', high_var_peaks, delimiter=\",\", fmt=\"%s\")"
   ]
  }
 ],
 "metadata": {
  "kernelspec": {
   "display_name": "thesis_std",
   "language": "python",
   "name": "python3"
  },
  "language_info": {
   "codemirror_mode": {
    "name": "ipython",
    "version": 3
   },
   "file_extension": ".py",
   "mimetype": "text/x-python",
   "name": "python",
   "nbconvert_exporter": "python",
   "pygments_lexer": "ipython3",
   "version": "3.13.2"
  }
 },
 "nbformat": 4,
 "nbformat_minor": 2
}
